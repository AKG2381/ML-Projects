{
 "cells": [
  {
   "cell_type": "code",
   "execution_count": 1,
   "id": "42304270",
   "metadata": {},
   "outputs": [],
   "source": [
    "import pandas as pd\n",
    "import numpy as np\n",
    "import matplotlib.pyplot as plt\n",
    "import seaborn as sns"
   ]
  },
  {
   "cell_type": "code",
   "execution_count": 2,
   "id": "7ca08060",
   "metadata": {},
   "outputs": [
    {
     "name": "stdout",
     "output_type": "stream",
     "text": [
      "(4999, 9)\n"
     ]
    },
    {
     "data": {
      "text/html": [
       "<div>\n",
       "<style scoped>\n",
       "    .dataframe tbody tr th:only-of-type {\n",
       "        vertical-align: middle;\n",
       "    }\n",
       "\n",
       "    .dataframe tbody tr th {\n",
       "        vertical-align: top;\n",
       "    }\n",
       "\n",
       "    .dataframe thead th {\n",
       "        text-align: right;\n",
       "    }\n",
       "</style>\n",
       "<table border=\"1\" class=\"dataframe\">\n",
       "  <thead>\n",
       "    <tr style=\"text-align: right;\">\n",
       "      <th></th>\n",
       "      <th>text</th>\n",
       "      <th>author</th>\n",
       "      <th>controversiality</th>\n",
       "      <th>parent_text</th>\n",
       "      <th>parent_score</th>\n",
       "      <th>parent_votes</th>\n",
       "      <th>parent_author</th>\n",
       "      <th>parent_controversiality</th>\n",
       "      <th>Score</th>\n",
       "    </tr>\n",
       "  </thead>\n",
       "  <tbody>\n",
       "    <tr>\n",
       "      <th>0</th>\n",
       "      <td>i must be retarded i thought it meant con lawl...</td>\n",
       "      <td>['calantus']</td>\n",
       "      <td>0</td>\n",
       "      <td>It's quite unfair to call Hillary Clinton a \"c...</td>\n",
       "      <td>245</td>\n",
       "      <td>245</td>\n",
       "      <td>Whisper</td>\n",
       "      <td>0</td>\n",
       "      <td>-8</td>\n",
       "    </tr>\n",
       "    <tr>\n",
       "      <th>1</th>\n",
       "      <td>DOWNMODDED FOR IRRELEVANCE? ISN'T THAT HOW THI...</td>\n",
       "      <td>['Shadowrose']</td>\n",
       "      <td>0</td>\n",
       "      <td>upmodded for awesome kindness</td>\n",
       "      <td>32</td>\n",
       "      <td>32</td>\n",
       "      <td>b3mus3d</td>\n",
       "      <td>0</td>\n",
       "      <td>-16</td>\n",
       "    </tr>\n",
       "    <tr>\n",
       "      <th>2</th>\n",
       "      <td>THAT WAS SUPPOSED TO MEAN \" BY A PLACE WHERE P...</td>\n",
       "      <td>['NExusRush']</td>\n",
       "      <td>0</td>\n",
       "      <td>What the hell does \"because its by a golf cour...</td>\n",
       "      <td>12</td>\n",
       "      <td>12</td>\n",
       "      <td>mr_jellyneck</td>\n",
       "      <td>0</td>\n",
       "      <td>-7</td>\n",
       "    </tr>\n",
       "    <tr>\n",
       "      <th>3</th>\n",
       "      <td>I THOUGHT EVERYONE DID; ITS FUCKING DELICIOUS :\\</td>\n",
       "      <td>['R0N_SWANS0N']</td>\n",
       "      <td>0</td>\n",
       "      <td>NICE TRY JENNIFER!  I KNOW IT'S YOU AND I KNOW...</td>\n",
       "      <td>117</td>\n",
       "      <td>117</td>\n",
       "      <td>ometzo</td>\n",
       "      <td>0</td>\n",
       "      <td>67</td>\n",
       "    </tr>\n",
       "    <tr>\n",
       "      <th>4</th>\n",
       "      <td>Great work, Zhesbe! I'd give you a raise but y...</td>\n",
       "      <td>['reddums']</td>\n",
       "      <td>0</td>\n",
       "      <td>\"HEY BOSS COME LOOK AT WHAT I DID!\"</td>\n",
       "      <td>1933</td>\n",
       "      <td>1933</td>\n",
       "      <td>Zhesbe</td>\n",
       "      <td>0</td>\n",
       "      <td>1348</td>\n",
       "    </tr>\n",
       "  </tbody>\n",
       "</table>\n",
       "</div>"
      ],
      "text/plain": [
       "                                                text           author  \\\n",
       "0  i must be retarded i thought it meant con lawl...     ['calantus']   \n",
       "1  DOWNMODDED FOR IRRELEVANCE? ISN'T THAT HOW THI...   ['Shadowrose']   \n",
       "2  THAT WAS SUPPOSED TO MEAN \" BY A PLACE WHERE P...    ['NExusRush']   \n",
       "3   I THOUGHT EVERYONE DID; ITS FUCKING DELICIOUS :\\  ['R0N_SWANS0N']   \n",
       "4  Great work, Zhesbe! I'd give you a raise but y...      ['reddums']   \n",
       "\n",
       "   controversiality                                        parent_text  \\\n",
       "0                 0  It's quite unfair to call Hillary Clinton a \"c...   \n",
       "1                 0                      upmodded for awesome kindness   \n",
       "2                 0  What the hell does \"because its by a golf cour...   \n",
       "3                 0  NICE TRY JENNIFER!  I KNOW IT'S YOU AND I KNOW...   \n",
       "4                 0               \"HEY BOSS COME LOOK AT WHAT I DID!\"    \n",
       "\n",
       "   parent_score  parent_votes parent_author  parent_controversiality  Score  \n",
       "0           245           245       Whisper                        0     -8  \n",
       "1            32            32       b3mus3d                        0    -16  \n",
       "2            12            12  mr_jellyneck                        0     -7  \n",
       "3           117           117        ometzo                        0     67  \n",
       "4          1933          1933        Zhesbe                        0   1348  "
      ]
     },
     "execution_count": 2,
     "metadata": {},
     "output_type": "execute_result"
    }
   ],
   "source": [
    "df = pd.read_csv('Train_Data.csv')\n",
    "print(df.shape)\n",
    "df.head()"
   ]
  },
  {
   "cell_type": "code",
   "execution_count": 3,
   "id": "7ef54e7a",
   "metadata": {},
   "outputs": [
    {
     "name": "stdout",
     "output_type": "stream",
     "text": [
      "<class 'pandas.core.frame.DataFrame'>\n",
      "RangeIndex: 4999 entries, 0 to 4998\n",
      "Data columns (total 9 columns):\n",
      " #   Column                   Non-Null Count  Dtype \n",
      "---  ------                   --------------  ----- \n",
      " 0   text                     4999 non-null   object\n",
      " 1   author                   4999 non-null   object\n",
      " 2   controversiality         4999 non-null   int64 \n",
      " 3   parent_text              4999 non-null   object\n",
      " 4   parent_score             4999 non-null   int64 \n",
      " 5   parent_votes             4999 non-null   int64 \n",
      " 6   parent_author            4999 non-null   object\n",
      " 7   parent_controversiality  4999 non-null   int64 \n",
      " 8   Score                    4999 non-null   int64 \n",
      "dtypes: int64(5), object(4)\n",
      "memory usage: 351.6+ KB\n"
     ]
    }
   ],
   "source": [
    "df.info()"
   ]
  },
  {
   "cell_type": "code",
   "execution_count": 4,
   "id": "284bf06b",
   "metadata": {},
   "outputs": [
    {
     "data": {
      "text/plain": [
       "array(['text', 'author', 'controversiality', 'parent_text',\n",
       "       'parent_score', 'parent_votes', 'parent_author',\n",
       "       'parent_controversiality', 'Score'], dtype=object)"
      ]
     },
     "execution_count": 4,
     "metadata": {},
     "output_type": "execute_result"
    }
   ],
   "source": [
    "cols =df.columns.values\n",
    "cols "
   ]
  },
  {
   "cell_type": "code",
   "execution_count": 5,
   "id": "f93b45fd",
   "metadata": {},
   "outputs": [
    {
     "name": "stdout",
     "output_type": "stream",
     "text": [
      "text : 4992\n",
      "author : 4317\n",
      "controversiality : 2\n",
      "parent_text : 4992\n",
      "parent_score : 1001\n",
      "parent_votes : 1001\n",
      "parent_author : 4448\n",
      "parent_controversiality : 2\n",
      "Score : 572\n"
     ]
    }
   ],
   "source": [
    "for col in cols:\n",
    "    print(col,':',df[col].nunique())"
   ]
  },
  {
   "cell_type": "code",
   "execution_count": 6,
   "id": "d23d4d67",
   "metadata": {},
   "outputs": [
    {
     "data": {
      "text/plain": [
       "1"
      ]
     },
     "execution_count": 6,
     "metadata": {},
     "output_type": "execute_result"
    }
   ],
   "source": [
    "# Compare score with votes\n",
    "df['score vs. votes'] = df['parent_score']==df['parent_votes']\n",
    "df['score vs. votes'].nunique()"
   ]
  },
  {
   "cell_type": "code",
   "execution_count": 7,
   "id": "6816df34",
   "metadata": {},
   "outputs": [
    {
     "data": {
      "text/html": [
       "<div>\n",
       "<style scoped>\n",
       "    .dataframe tbody tr th:only-of-type {\n",
       "        vertical-align: middle;\n",
       "    }\n",
       "\n",
       "    .dataframe tbody tr th {\n",
       "        vertical-align: top;\n",
       "    }\n",
       "\n",
       "    .dataframe thead th {\n",
       "        text-align: right;\n",
       "    }\n",
       "</style>\n",
       "<table border=\"1\" class=\"dataframe\">\n",
       "  <thead>\n",
       "    <tr style=\"text-align: right;\">\n",
       "      <th></th>\n",
       "      <th>text</th>\n",
       "      <th>author</th>\n",
       "      <th>controversiality</th>\n",
       "      <th>parent_text</th>\n",
       "      <th>parent_score</th>\n",
       "      <th>parent_author</th>\n",
       "      <th>parent_controversiality</th>\n",
       "      <th>Score</th>\n",
       "    </tr>\n",
       "  </thead>\n",
       "  <tbody>\n",
       "    <tr>\n",
       "      <th>0</th>\n",
       "      <td>i must be retarded i thought it meant con lawl...</td>\n",
       "      <td>['calantus']</td>\n",
       "      <td>0</td>\n",
       "      <td>It's quite unfair to call Hillary Clinton a \"c...</td>\n",
       "      <td>245</td>\n",
       "      <td>Whisper</td>\n",
       "      <td>0</td>\n",
       "      <td>-8</td>\n",
       "    </tr>\n",
       "    <tr>\n",
       "      <th>1</th>\n",
       "      <td>DOWNMODDED FOR IRRELEVANCE? ISN'T THAT HOW THI...</td>\n",
       "      <td>['Shadowrose']</td>\n",
       "      <td>0</td>\n",
       "      <td>upmodded for awesome kindness</td>\n",
       "      <td>32</td>\n",
       "      <td>b3mus3d</td>\n",
       "      <td>0</td>\n",
       "      <td>-16</td>\n",
       "    </tr>\n",
       "    <tr>\n",
       "      <th>2</th>\n",
       "      <td>THAT WAS SUPPOSED TO MEAN \" BY A PLACE WHERE P...</td>\n",
       "      <td>['NExusRush']</td>\n",
       "      <td>0</td>\n",
       "      <td>What the hell does \"because its by a golf cour...</td>\n",
       "      <td>12</td>\n",
       "      <td>mr_jellyneck</td>\n",
       "      <td>0</td>\n",
       "      <td>-7</td>\n",
       "    </tr>\n",
       "    <tr>\n",
       "      <th>3</th>\n",
       "      <td>I THOUGHT EVERYONE DID; ITS FUCKING DELICIOUS :\\</td>\n",
       "      <td>['R0N_SWANS0N']</td>\n",
       "      <td>0</td>\n",
       "      <td>NICE TRY JENNIFER!  I KNOW IT'S YOU AND I KNOW...</td>\n",
       "      <td>117</td>\n",
       "      <td>ometzo</td>\n",
       "      <td>0</td>\n",
       "      <td>67</td>\n",
       "    </tr>\n",
       "    <tr>\n",
       "      <th>4</th>\n",
       "      <td>Great work, Zhesbe! I'd give you a raise but y...</td>\n",
       "      <td>['reddums']</td>\n",
       "      <td>0</td>\n",
       "      <td>\"HEY BOSS COME LOOK AT WHAT I DID!\"</td>\n",
       "      <td>1933</td>\n",
       "      <td>Zhesbe</td>\n",
       "      <td>0</td>\n",
       "      <td>1348</td>\n",
       "    </tr>\n",
       "  </tbody>\n",
       "</table>\n",
       "</div>"
      ],
      "text/plain": [
       "                                                text           author  \\\n",
       "0  i must be retarded i thought it meant con lawl...     ['calantus']   \n",
       "1  DOWNMODDED FOR IRRELEVANCE? ISN'T THAT HOW THI...   ['Shadowrose']   \n",
       "2  THAT WAS SUPPOSED TO MEAN \" BY A PLACE WHERE P...    ['NExusRush']   \n",
       "3   I THOUGHT EVERYONE DID; ITS FUCKING DELICIOUS :\\  ['R0N_SWANS0N']   \n",
       "4  Great work, Zhesbe! I'd give you a raise but y...      ['reddums']   \n",
       "\n",
       "   controversiality                                        parent_text  \\\n",
       "0                 0  It's quite unfair to call Hillary Clinton a \"c...   \n",
       "1                 0                      upmodded for awesome kindness   \n",
       "2                 0  What the hell does \"because its by a golf cour...   \n",
       "3                 0  NICE TRY JENNIFER!  I KNOW IT'S YOU AND I KNOW...   \n",
       "4                 0               \"HEY BOSS COME LOOK AT WHAT I DID!\"    \n",
       "\n",
       "   parent_score parent_author  parent_controversiality  Score  \n",
       "0           245       Whisper                        0     -8  \n",
       "1            32       b3mus3d                        0    -16  \n",
       "2            12  mr_jellyneck                        0     -7  \n",
       "3           117        ometzo                        0     67  \n",
       "4          1933        Zhesbe                        0   1348  "
      ]
     },
     "execution_count": 7,
     "metadata": {},
     "output_type": "execute_result"
    }
   ],
   "source": [
    "# Since they are the same, we can drop one of them\n",
    "df.drop(['parent_votes', 'score vs. votes'], axis= 1, inplace=True)\n",
    "df.head()"
   ]
  },
  {
   "cell_type": "code",
   "execution_count": 8,
   "id": "1f35f374",
   "metadata": {},
   "outputs": [
    {
     "data": {
      "text/html": [
       "<div>\n",
       "<style scoped>\n",
       "    .dataframe tbody tr th:only-of-type {\n",
       "        vertical-align: middle;\n",
       "    }\n",
       "\n",
       "    .dataframe tbody tr th {\n",
       "        vertical-align: top;\n",
       "    }\n",
       "\n",
       "    .dataframe thead th {\n",
       "        text-align: right;\n",
       "    }\n",
       "</style>\n",
       "<table border=\"1\" class=\"dataframe\">\n",
       "  <thead>\n",
       "    <tr style=\"text-align: right;\">\n",
       "      <th></th>\n",
       "      <th>controversiality</th>\n",
       "      <th>parent_score</th>\n",
       "      <th>parent_controversiality</th>\n",
       "      <th>Score</th>\n",
       "    </tr>\n",
       "  </thead>\n",
       "  <tbody>\n",
       "    <tr>\n",
       "      <th>controversiality</th>\n",
       "      <td>1.000000</td>\n",
       "      <td>-0.010654</td>\n",
       "      <td>-0.000849</td>\n",
       "      <td>-0.012145</td>\n",
       "    </tr>\n",
       "    <tr>\n",
       "      <th>parent_score</th>\n",
       "      <td>-0.010654</td>\n",
       "      <td>1.000000</td>\n",
       "      <td>-0.016473</td>\n",
       "      <td>0.489365</td>\n",
       "    </tr>\n",
       "    <tr>\n",
       "      <th>parent_controversiality</th>\n",
       "      <td>-0.000849</td>\n",
       "      <td>-0.016473</td>\n",
       "      <td>1.000000</td>\n",
       "      <td>-0.014935</td>\n",
       "    </tr>\n",
       "    <tr>\n",
       "      <th>Score</th>\n",
       "      <td>-0.012145</td>\n",
       "      <td>0.489365</td>\n",
       "      <td>-0.014935</td>\n",
       "      <td>1.000000</td>\n",
       "    </tr>\n",
       "  </tbody>\n",
       "</table>\n",
       "</div>"
      ],
      "text/plain": [
       "                         controversiality  parent_score  \\\n",
       "controversiality                 1.000000     -0.010654   \n",
       "parent_score                    -0.010654      1.000000   \n",
       "parent_controversiality         -0.000849     -0.016473   \n",
       "Score                           -0.012145      0.489365   \n",
       "\n",
       "                         parent_controversiality     Score  \n",
       "controversiality                       -0.000849 -0.012145  \n",
       "parent_score                           -0.016473  0.489365  \n",
       "parent_controversiality                 1.000000 -0.014935  \n",
       "Score                                  -0.014935  1.000000  "
      ]
     },
     "execution_count": 8,
     "metadata": {},
     "output_type": "execute_result"
    }
   ],
   "source": [
    "# Correlation of numerical features\n",
    "cor = df.corr()\n",
    "cor"
   ]
  },
  {
   "cell_type": "code",
   "execution_count": 9,
   "id": "39bbd6ec",
   "metadata": {},
   "outputs": [
    {
     "data": {
      "text/plain": [
       "<AxesSubplot: >"
      ]
     },
     "execution_count": 9,
     "metadata": {},
     "output_type": "execute_result"
    },
    {
     "data": {
      "image/png": "[encoded data removed]",
      "text/plain": [
       "<Figure size 432x288 with 2 Axes>"
      ]
     },
     "metadata": {
      "needs_background": "light"
     },
     "output_type": "display_data"
    }
   ],
   "source": [
    "sns.heatmap(df.corr())"
   ]
  },
  {
   "cell_type": "code",
   "execution_count": 10,
   "id": "33a2eabc",
   "metadata": {},
   "outputs": [
    {
     "data": {
      "text/html": [
       "<div>\n",
       "<style scoped>\n",
       "    .dataframe tbody tr th:only-of-type {\n",
       "        vertical-align: middle;\n",
       "    }\n",
       "\n",
       "    .dataframe tbody tr th {\n",
       "        vertical-align: top;\n",
       "    }\n",
       "\n",
       "    .dataframe thead th {\n",
       "        text-align: right;\n",
       "    }\n",
       "</style>\n",
       "<table border=\"1\" class=\"dataframe\">\n",
       "  <thead>\n",
       "    <tr style=\"text-align: right;\">\n",
       "      <th></th>\n",
       "      <th>text</th>\n",
       "      <th>author</th>\n",
       "      <th>controversiality</th>\n",
       "      <th>parent_text</th>\n",
       "      <th>parent_score</th>\n",
       "      <th>parent_author</th>\n",
       "      <th>parent_controversiality</th>\n",
       "      <th>Score</th>\n",
       "    </tr>\n",
       "  </thead>\n",
       "  <tbody>\n",
       "    <tr>\n",
       "      <th>0</th>\n",
       "      <td>i must be retarded i thought it meant con lawl...</td>\n",
       "      <td>['calantus']</td>\n",
       "      <td>0</td>\n",
       "      <td>it's quite unfair to call hillary clinton a \"c...</td>\n",
       "      <td>245</td>\n",
       "      <td>whisper</td>\n",
       "      <td>0</td>\n",
       "      <td>-8</td>\n",
       "    </tr>\n",
       "    <tr>\n",
       "      <th>1</th>\n",
       "      <td>downmodded for irrelevance? isn't that how thi...</td>\n",
       "      <td>['shadowrose']</td>\n",
       "      <td>0</td>\n",
       "      <td>upmodded for awesome kindness</td>\n",
       "      <td>32</td>\n",
       "      <td>b3mus3d</td>\n",
       "      <td>0</td>\n",
       "      <td>-16</td>\n",
       "    </tr>\n",
       "    <tr>\n",
       "      <th>2</th>\n",
       "      <td>that was supposed to mean \" by a place where p...</td>\n",
       "      <td>['nexusrush']</td>\n",
       "      <td>0</td>\n",
       "      <td>what the hell does \"because its by a golf cour...</td>\n",
       "      <td>12</td>\n",
       "      <td>mr_jellyneck</td>\n",
       "      <td>0</td>\n",
       "      <td>-7</td>\n",
       "    </tr>\n",
       "    <tr>\n",
       "      <th>3</th>\n",
       "      <td>i thought everyone did; its fucking delicious :\\</td>\n",
       "      <td>['r0n_swans0n']</td>\n",
       "      <td>0</td>\n",
       "      <td>nice try jennifer!  i know it's you and i know...</td>\n",
       "      <td>117</td>\n",
       "      <td>ometzo</td>\n",
       "      <td>0</td>\n",
       "      <td>67</td>\n",
       "    </tr>\n",
       "    <tr>\n",
       "      <th>4</th>\n",
       "      <td>great work, zhesbe! i'd give you a raise but y...</td>\n",
       "      <td>['reddums']</td>\n",
       "      <td>0</td>\n",
       "      <td>\"hey boss come look at what i did!\"</td>\n",
       "      <td>1933</td>\n",
       "      <td>zhesbe</td>\n",
       "      <td>0</td>\n",
       "      <td>1348</td>\n",
       "    </tr>\n",
       "  </tbody>\n",
       "</table>\n",
       "</div>"
      ],
      "text/plain": [
       "                                                text           author  \\\n",
       "0  i must be retarded i thought it meant con lawl...     ['calantus']   \n",
       "1  downmodded for irrelevance? isn't that how thi...   ['shadowrose']   \n",
       "2  that was supposed to mean \" by a place where p...    ['nexusrush']   \n",
       "3   i thought everyone did; its fucking delicious :\\  ['r0n_swans0n']   \n",
       "4  great work, zhesbe! i'd give you a raise but y...      ['reddums']   \n",
       "\n",
       "   controversiality                                        parent_text  \\\n",
       "0                 0  it's quite unfair to call hillary clinton a \"c...   \n",
       "1                 0                      upmodded for awesome kindness   \n",
       "2                 0  what the hell does \"because its by a golf cour...   \n",
       "3                 0  nice try jennifer!  i know it's you and i know...   \n",
       "4                 0                \"hey boss come look at what i did!\"   \n",
       "\n",
       "   parent_score parent_author  parent_controversiality  Score  \n",
       "0           245       whisper                        0     -8  \n",
       "1            32       b3mus3d                        0    -16  \n",
       "2            12  mr_jellyneck                        0     -7  \n",
       "3           117        ometzo                        0     67  \n",
       "4          1933        zhesbe                        0   1348  "
      ]
     },
     "execution_count": 10,
     "metadata": {},
     "output_type": "execute_result"
    }
   ],
   "source": [
    "# Transfer category values to be lowercased & remove leading and trailing whitespaces\n",
    "categorical_cols = ['text','author','parent_text','parent_author']\n",
    "for col in df[categorical_cols]:\n",
    "    df[col] = df[col].str.lower()\n",
    "    df[col] = df[col].str.strip()\n",
    "df.head()"
   ]
  },
  {
   "cell_type": "code",
   "execution_count": 11,
   "id": "fb03989c",
   "metadata": {},
   "outputs": [
    {
     "data": {
      "text/html": [
       "<div>\n",
       "<style scoped>\n",
       "    .dataframe tbody tr th:only-of-type {\n",
       "        vertical-align: middle;\n",
       "    }\n",
       "\n",
       "    .dataframe tbody tr th {\n",
       "        vertical-align: top;\n",
       "    }\n",
       "\n",
       "    .dataframe thead th {\n",
       "        text-align: right;\n",
       "    }\n",
       "</style>\n",
       "<table border=\"1\" class=\"dataframe\">\n",
       "  <thead>\n",
       "    <tr style=\"text-align: right;\">\n",
       "      <th></th>\n",
       "      <th>text</th>\n",
       "      <th>author</th>\n",
       "      <th>controversiality</th>\n",
       "      <th>parent_text</th>\n",
       "      <th>parent_score</th>\n",
       "      <th>parent_author</th>\n",
       "      <th>parent_controversiality</th>\n",
       "      <th>Score</th>\n",
       "    </tr>\n",
       "  </thead>\n",
       "  <tbody>\n",
       "    <tr>\n",
       "      <th>0</th>\n",
       "      <td>i must be retarded i thought it meant con lawl...</td>\n",
       "      <td>['calantus']</td>\n",
       "      <td>0</td>\n",
       "      <td>it's quite unfair to call hillary clinton a \"c...</td>\n",
       "      <td>245</td>\n",
       "      <td>whisper</td>\n",
       "      <td>0</td>\n",
       "      <td>-8</td>\n",
       "    </tr>\n",
       "    <tr>\n",
       "      <th>1</th>\n",
       "      <td>downmodded for irrelevance? isn't that how thi...</td>\n",
       "      <td>['shadowrose']</td>\n",
       "      <td>0</td>\n",
       "      <td>upmodded for awesome kindness</td>\n",
       "      <td>32</td>\n",
       "      <td>b3mus3d</td>\n",
       "      <td>0</td>\n",
       "      <td>-16</td>\n",
       "    </tr>\n",
       "    <tr>\n",
       "      <th>2</th>\n",
       "      <td>that was supposed to mean \" by a place where p...</td>\n",
       "      <td>['nexusrush']</td>\n",
       "      <td>0</td>\n",
       "      <td>what the hell does \"because its by a golf cour...</td>\n",
       "      <td>12</td>\n",
       "      <td>mr_jellyneck</td>\n",
       "      <td>0</td>\n",
       "      <td>-7</td>\n",
       "    </tr>\n",
       "    <tr>\n",
       "      <th>3</th>\n",
       "      <td>i thought everyone did; its fucking delicious :\\</td>\n",
       "      <td>['r0n_swans0n']</td>\n",
       "      <td>0</td>\n",
       "      <td>nice try jennifer!  i know it's you and i know...</td>\n",
       "      <td>117</td>\n",
       "      <td>ometzo</td>\n",
       "      <td>0</td>\n",
       "      <td>67</td>\n",
       "    </tr>\n",
       "    <tr>\n",
       "      <th>4</th>\n",
       "      <td>great work, zhesbe! i'd give you a raise but y...</td>\n",
       "      <td>['reddums']</td>\n",
       "      <td>0</td>\n",
       "      <td>\"hey boss come look at what i did!\"</td>\n",
       "      <td>1933</td>\n",
       "      <td>zhesbe</td>\n",
       "      <td>0</td>\n",
       "      <td>1348</td>\n",
       "    </tr>\n",
       "  </tbody>\n",
       "</table>\n",
       "</div>"
      ],
      "text/plain": [
       "                                                text           author  \\\n",
       "0  i must be retarded i thought it meant con lawl...     ['calantus']   \n",
       "1  downmodded for irrelevance? isn't that how thi...   ['shadowrose']   \n",
       "2  that was supposed to mean \" by a place where p...    ['nexusrush']   \n",
       "3   i thought everyone did; its fucking delicious :\\  ['r0n_swans0n']   \n",
       "4  great work, zhesbe! i'd give you a raise but y...      ['reddums']   \n",
       "\n",
       "   controversiality                                        parent_text  \\\n",
       "0                 0  it's quite unfair to call hillary clinton a \"c...   \n",
       "1                 0                      upmodded for awesome kindness   \n",
       "2                 0  what the hell does \"because its by a golf cour...   \n",
       "3                 0  nice try jennifer!  i know it's you and i know...   \n",
       "4                 0                \"hey boss come look at what i did!\"   \n",
       "\n",
       "   parent_score parent_author  parent_controversiality  Score  \n",
       "0           245       whisper                        0     -8  \n",
       "1            32       b3mus3d                        0    -16  \n",
       "2            12  mr_jellyneck                        0     -7  \n",
       "3           117        ometzo                        0     67  \n",
       "4          1933        zhesbe                        0   1348  "
      ]
     },
     "execution_count": 11,
     "metadata": {},
     "output_type": "execute_result"
    }
   ],
   "source": [
    "df.head()"
   ]
  },
  {
   "cell_type": "code",
   "execution_count": 12,
   "id": "6cb5adf4",
   "metadata": {},
   "outputs": [
    {
     "data": {
      "text/html": [
       "<div>\n",
       "<style scoped>\n",
       "    .dataframe tbody tr th:only-of-type {\n",
       "        vertical-align: middle;\n",
       "    }\n",
       "\n",
       "    .dataframe tbody tr th {\n",
       "        vertical-align: top;\n",
       "    }\n",
       "\n",
       "    .dataframe thead th {\n",
       "        text-align: right;\n",
       "    }\n",
       "</style>\n",
       "<table border=\"1\" class=\"dataframe\">\n",
       "  <thead>\n",
       "    <tr style=\"text-align: right;\">\n",
       "      <th></th>\n",
       "      <th>text</th>\n",
       "      <th>author</th>\n",
       "      <th>controversiality</th>\n",
       "      <th>parent_text</th>\n",
       "      <th>parent_score</th>\n",
       "      <th>parent_author</th>\n",
       "      <th>parent_controversiality</th>\n",
       "      <th>Score</th>\n",
       "    </tr>\n",
       "  </thead>\n",
       "  <tbody>\n",
       "    <tr>\n",
       "      <th>0</th>\n",
       "      <td>i must be retarded i thought it meant con lawl...</td>\n",
       "      <td>calantus</td>\n",
       "      <td>0</td>\n",
       "      <td>its quite unfair to call hillary clinton a cun...</td>\n",
       "      <td>245</td>\n",
       "      <td>whisper</td>\n",
       "      <td>0</td>\n",
       "      <td>-8</td>\n",
       "    </tr>\n",
       "    <tr>\n",
       "      <th>1</th>\n",
       "      <td>downmodded for irrelevance isnt that how this ...</td>\n",
       "      <td>shadowrose</td>\n",
       "      <td>0</td>\n",
       "      <td>upmodded for awesome kindness</td>\n",
       "      <td>32</td>\n",
       "      <td>b3mus3d</td>\n",
       "      <td>0</td>\n",
       "      <td>-16</td>\n",
       "    </tr>\n",
       "    <tr>\n",
       "      <th>2</th>\n",
       "      <td>that was supposed to mean  by a place where pe...</td>\n",
       "      <td>nexusrush</td>\n",
       "      <td>0</td>\n",
       "      <td>what the hell does because its by a golf cours...</td>\n",
       "      <td>12</td>\n",
       "      <td>mrjellyneck</td>\n",
       "      <td>0</td>\n",
       "      <td>-7</td>\n",
       "    </tr>\n",
       "    <tr>\n",
       "      <th>3</th>\n",
       "      <td>i thought everyone did its fucking delicious</td>\n",
       "      <td>r0nswans0n</td>\n",
       "      <td>0</td>\n",
       "      <td>nice try jennifer  i know its you and i know y...</td>\n",
       "      <td>117</td>\n",
       "      <td>ometzo</td>\n",
       "      <td>0</td>\n",
       "      <td>67</td>\n",
       "    </tr>\n",
       "    <tr>\n",
       "      <th>4</th>\n",
       "      <td>great work zhesbe id give you a raise but you ...</td>\n",
       "      <td>reddums</td>\n",
       "      <td>0</td>\n",
       "      <td>hey boss come look at what i did</td>\n",
       "      <td>1933</td>\n",
       "      <td>zhesbe</td>\n",
       "      <td>0</td>\n",
       "      <td>1348</td>\n",
       "    </tr>\n",
       "  </tbody>\n",
       "</table>\n",
       "</div>"
      ],
      "text/plain": [
       "                                                text      author  \\\n",
       "0  i must be retarded i thought it meant con lawl...    calantus   \n",
       "1  downmodded for irrelevance isnt that how this ...  shadowrose   \n",
       "2  that was supposed to mean  by a place where pe...   nexusrush   \n",
       "3      i thought everyone did its fucking delicious   r0nswans0n   \n",
       "4  great work zhesbe id give you a raise but you ...     reddums   \n",
       "\n",
       "   controversiality                                        parent_text  \\\n",
       "0                 0  its quite unfair to call hillary clinton a cun...   \n",
       "1                 0                      upmodded for awesome kindness   \n",
       "2                 0  what the hell does because its by a golf cours...   \n",
       "3                 0  nice try jennifer  i know its you and i know y...   \n",
       "4                 0                   hey boss come look at what i did   \n",
       "\n",
       "   parent_score parent_author  parent_controversiality  Score  \n",
       "0           245       whisper                        0     -8  \n",
       "1            32       b3mus3d                        0    -16  \n",
       "2            12   mrjellyneck                        0     -7  \n",
       "3           117        ometzo                        0     67  \n",
       "4          1933        zhesbe                        0   1348  "
      ]
     },
     "execution_count": 12,
     "metadata": {},
     "output_type": "execute_result"
    }
   ],
   "source": [
    "#Remove punctuation marks\n",
    "import string\n",
    "\n",
    "for col in df[categorical_cols]:\n",
    "    df[col] = df[col].apply(lambda x:''.join([i for i in x if i not in string.punctuation]))\n",
    "df.head()"
   ]
  },
  {
   "cell_type": "code",
   "execution_count": 13,
   "id": "65bf4c9e",
   "metadata": {},
   "outputs": [],
   "source": [
    "text_tokens=df['text'].values\n",
    "parent_text_tokens=df['parent_text'].values"
   ]
  },
  {
   "cell_type": "code",
   "execution_count": 14,
   "id": "9f5a7991",
   "metadata": {},
   "outputs": [
    {
     "data": {
      "text/plain": [
       "array(['i must be retarded i thought it meant con lawl oh well both work',\n",
       "       'downmodded for irrelevance isnt that how this works'],\n",
       "      dtype=object)"
      ]
     },
     "execution_count": 14,
     "metadata": {},
     "output_type": "execute_result"
    }
   ],
   "source": [
    "text_tokens[:2]"
   ]
  },
  {
   "cell_type": "code",
   "execution_count": 15,
   "id": "ad7bf6ce",
   "metadata": {},
   "outputs": [
    {
     "name": "stdout",
     "output_type": "stream",
     "text": [
      "['i must be retarded i thought it meant con lawl oh well both work', 'downmodded for irrelevance isnt that how this works', 'that was supposed to mean  by a place where people will be undoubtedly and should the snake have burrowed in the course grounds they would have for sure killed it   dont make a raceclass discussion out of something that isnt']\n",
      "['its quite unfair to call hillary clinton a cunt  she lacks the depth and the warmth', 'upmodded for awesome kindness', 'what the hell does because its by a golf course have to do with anything did you think a bunch of rich white men golfclapped at the euthanizing of a monsterous snake']\n"
     ]
    }
   ],
   "source": [
    "import re\n",
    "# \\w={a-zA-Z0-9_}\n",
    "# \\W=other than \\w\n",
    "text_tokens_re=[re.sub('\\W',' ',m) for m in text_tokens]\n",
    "print(text_tokens_re[:3])\n",
    "parent_text_tokens_re=[re.sub('\\W',' ',m) for m in parent_text_tokens]\n",
    "print(parent_text_tokens_re[:3])"
   ]
  },
  {
   "cell_type": "code",
   "execution_count": 16,
   "id": "63e84a1e",
   "metadata": {},
   "outputs": [
    {
     "name": "stdout",
     "output_type": "stream",
     "text": [
      "['i must be retarded i thought it meant con lawl oh well both work', 'downmodded for irrelevance isnt that how this works', 'that was supposed to mean by a place where people will be undoubtedly and should the snake have burrowed in the course grounds they would have for sure killed it dont make a raceclass discussion out of something that isnt']\n",
      "['its quite unfair to call hillary clinton a cunt she lacks the depth and the warmth', 'upmodded for awesome kindness', 'what the hell does because its by a golf course have to do with anything did you think a bunch of rich white men golfclapped at the euthanizing of a monsterous snake']\n"
     ]
    }
   ],
   "source": [
    "# removing multiple white spaces to single space\n",
    "text_tokens_re=[re.sub('\\s+',' ',m).strip() for m in text_tokens_re]\n",
    "print(text_tokens_re[:3])\n",
    "# removing multiple white spaces to single space\n",
    "parent_text_tokens_re=[re.sub('\\s+',' ',m).strip() for m in parent_text_tokens_re]\n",
    "print(parent_text_tokens_re[:3])"
   ]
  },
  {
   "cell_type": "code",
   "execution_count": null,
   "id": "74dfa035",
   "metadata": {},
   "outputs": [],
   "source": []
  },
  {
   "cell_type": "code",
   "execution_count": null,
   "id": "6ee7f4ae",
   "metadata": {},
   "outputs": [],
   "source": []
  },
  {
   "cell_type": "code",
   "execution_count": 17,
   "id": "70c558cb",
   "metadata": {},
   "outputs": [],
   "source": [
    "# 1 using nltk stop word packkages\n",
    "\n",
    "from nltk.corpus import stopwords\n",
    "sw=stopwords.words('english')\n",
    "# sw"
   ]
  },
  {
   "cell_type": "code",
   "execution_count": 18,
   "id": "a3bf6804",
   "metadata": {},
   "outputs": [],
   "source": [
    "text_tokens_without_sw=[]\n",
    "for msg in text_tokens_re:\n",
    "    msg_cleaned=[]\n",
    "    for m in msg.split():\n",
    "        if m not in sw:\n",
    "            msg_cleaned.append(m)\n",
    "    text_tokens_without_sw.append(' '.join(msg_cleaned))"
   ]
  },
  {
   "cell_type": "code",
   "execution_count": 19,
   "id": "e01634db",
   "metadata": {},
   "outputs": [
    {
     "data": {
      "text/plain": [
       "['must retarded thought meant con lawl oh well work',\n",
       " 'downmodded irrelevance isnt works']"
      ]
     },
     "execution_count": 19,
     "metadata": {},
     "output_type": "execute_result"
    }
   ],
   "source": [
    "text_tokens_without_sw[:2]"
   ]
  },
  {
   "cell_type": "code",
   "execution_count": 20,
   "id": "a8243a9f",
   "metadata": {},
   "outputs": [],
   "source": [
    "parent_text_tokens_without_sw=[]\n",
    "for msg in parent_text_tokens_re:\n",
    "    msg_cleaned=[]\n",
    "    for m in msg.split():\n",
    "        if m not in sw:\n",
    "            msg_cleaned.append(m)\n",
    "    parent_text_tokens_without_sw.append(' '.join(msg_cleaned))"
   ]
  },
  {
   "cell_type": "code",
   "execution_count": 21,
   "id": "807fcfec",
   "metadata": {},
   "outputs": [
    {
     "data": {
      "text/plain": [
       "['quite unfair call hillary clinton cunt lacks depth warmth',\n",
       " 'upmodded awesome kindness']"
      ]
     },
     "execution_count": 21,
     "metadata": {},
     "output_type": "execute_result"
    }
   ],
   "source": [
    "parent_text_tokens_without_sw[:2]"
   ]
  },
  {
   "cell_type": "code",
   "execution_count": 22,
   "id": "1fd0f36b",
   "metadata": {},
   "outputs": [
    {
     "name": "stdout",
     "output_type": "stream",
     "text": [
      "['must retarded thought meant con lawl oh well work', 'downmodded irrelevance isnt works', 'supposed mean place people undoubtedly snake burrowed course grounds would sure killed dont make raceclass discussion something isnt', 'thought everyone fucking delicious']\n"
     ]
    },
    {
     "data": {
      "text/plain": [
       "['quite unfair call hillary clinton cunt lacks depth warmth',\n",
       " 'upmodded awesome kindness',\n",
       " 'hell golf course anything think bunch rich white men golfclapped euthanizing monsterous snake',\n",
       " 'nice try jennifer know know like baba ganoush']"
      ]
     },
     "execution_count": 22,
     "metadata": {},
     "output_type": "execute_result"
    }
   ],
   "source": [
    "# removing digits\n",
    "text_tokens_without_sw_digits=[re.sub('\\d+','',m) for m in text_tokens_without_sw]\n",
    "print(text_tokens_without_sw_digits[:4])\n",
    "# removing digits\n",
    "parent_text_tokens_without_sw_digits=[re.sub('\\d+','',m) for m in parent_text_tokens_without_sw]\n",
    "parent_text_tokens_without_sw_digits[:4]"
   ]
  },
  {
   "cell_type": "code",
   "execution_count": 23,
   "id": "2e350fb7",
   "metadata": {},
   "outputs": [
    {
     "name": "stdout",
     "output_type": "stream",
     "text": [
      "['must retarded thought meant con lawlwell work', 'downmodded irrelevance isnt works', 'supposed mean place people undoubtedly snake burrowed course grounds would sure killed dont make raceclass discussion something isnt', 'thought everyone fucking delicious']\n"
     ]
    },
    {
     "data": {
      "text/plain": [
       "['quite unfair call hillary clinton cunt lacks depth warmth',\n",
       " 'upmodded awesome kindness',\n",
       " 'hell golf course anything think bunch rich white men golfclapped euthanizing monsterous snake',\n",
       " 'nice try jennifer know know like baba ganoush']"
      ]
     },
     "execution_count": 23,
     "metadata": {},
     "output_type": "execute_result"
    }
   ],
   "source": [
    "# removing single or double charecter words\n",
    "text_tokens_without_sw=[re.sub('\\s\\w{1,2}\\s','',m) for m in text_tokens_without_sw]\n",
    "print(text_tokens_without_sw[:4])\n",
    "# removing single or double charecter words\n",
    "parent_text_tokens_without_sw=[re.sub('\\s\\w{1,2}\\s','',m) for m in parent_text_tokens_without_sw]\n",
    "parent_text_tokens_without_sw[:4]"
   ]
  },
  {
   "cell_type": "code",
   "execution_count": 24,
   "id": "56e3ede0",
   "metadata": {},
   "outputs": [
    {
     "name": "stdout",
     "output_type": "stream",
     "text": [
      "['must retarded thought meant con lawlwell work', 'downmodded irrelevance isnt works', 'supposed mean place people undoubtedly snake burrowed course grounds would sure killed dont make raceclass discussion something isnt', 'thought everyone fucking delicious']\n"
     ]
    },
    {
     "data": {
      "text/plain": [
       "['quite unfair call hillary clinton cunt lacks depth warmth',\n",
       " 'upmodded awesome kindness',\n",
       " 'hell golf course anything think bunch rich white men golfclapped euthanizing monsterous snake',\n",
       " 'nice try jennifer know know like baba ganoush']"
      ]
     },
     "execution_count": 24,
     "metadata": {},
     "output_type": "execute_result"
    }
   ],
   "source": [
    "# # removing single or double charecter words at starting \n",
    "text_tokens_without_sw=[re.sub('\\s\\w{1,2}\\s','',m) for m in text_tokens_without_sw]\n",
    "print(text_tokens_without_sw[:4])\n",
    "# # removing single or double charecter words at starting \n",
    "parent_text_tokens_without_sw=[re.sub('\\s\\w{1,2}\\s','',m) for m in parent_text_tokens_without_sw]\n",
    "parent_text_tokens_without_sw[:4]"
   ]
  },
  {
   "cell_type": "code",
   "execution_count": 25,
   "id": "162c31ff",
   "metadata": {},
   "outputs": [
    {
     "name": "stdout",
     "output_type": "stream",
     "text": [
      "['must retarded thought meant con lawlwell work', 'downmodded irrelevance isnt works', 'supposed mean place people undoubtedly snake burrowed course grounds would sure killed dont make raceclass discussion something isnt', 'thought everyone fucking delicious']\n"
     ]
    },
    {
     "data": {
      "text/plain": [
       "['quite unfair call hillary clinton cunt lacks depth warmth',\n",
       " 'upmodded awesome kindness',\n",
       " 'hell golf course anything think bunch rich white men golfclapped euthanizing monsterous snake',\n",
       " 'nice try jennifer know know like baba ganoush']"
      ]
     },
     "execution_count": 25,
     "metadata": {},
     "output_type": "execute_result"
    }
   ],
   "source": [
    "# # removing single or double charecter words at starting \n",
    "text_tokens_without_sw=[re.sub('\\s\\w{1,2}$','',m) for m in text_tokens_without_sw]\n",
    "print(text_tokens_without_sw[:4])\n",
    "# # removing single or double charecter words at starting \n",
    "parent_text_tokens_without_sw=[re.sub('\\s\\w{1,2}$','',m) for m in parent_text_tokens_without_sw]\n",
    "parent_text_tokens_without_sw[:4]"
   ]
  },
  {
   "cell_type": "code",
   "execution_count": null,
   "id": "8622f2df",
   "metadata": {},
   "outputs": [],
   "source": []
  },
  {
   "cell_type": "code",
   "execution_count": 26,
   "id": "67390b56",
   "metadata": {},
   "outputs": [
    {
     "name": "stdout",
     "output_type": "stream",
     "text": [
      "['must retarded thought meant con lawlwell work', 'downmodded irrelevance isnt works', 'supposed mean place people undoubtedly snake burrowed course grounds would sure killed dont make raceclass discussion something isnt', 'thought everyone fucking delicious']\n"
     ]
    },
    {
     "data": {
      "text/plain": [
       "['quite unfair call hillary clinton cunt lacks depth warmth',\n",
       " 'upmodded awesome kindness',\n",
       " 'hell golf course anything think bunch rich white men golfclapped euthanizing monsterous snake',\n",
       " 'nice try jennifer know know like baba ganoush']"
      ]
     },
     "execution_count": 26,
     "metadata": {},
     "output_type": "execute_result"
    }
   ],
   "source": [
    "# removing multiple white spaces to single space\n",
    "text_tokens_without_sw=[re.sub('\\s+',' ',m) for m in text_tokens_without_sw]\n",
    "print(text_tokens_without_sw[:4])\n",
    "# removing multiple white spaces to single space\n",
    "# # removing single or double charecter words at starting \n",
    "parent_text_tokens_without_sw=[re.sub('\\s+',' ',m) for m in parent_text_tokens_without_sw]\n",
    "parent_text_tokens_without_sw[:4]"
   ]
  },
  {
   "cell_type": "code",
   "execution_count": null,
   "id": "ebdfd573",
   "metadata": {},
   "outputs": [],
   "source": []
  },
  {
   "cell_type": "code",
   "execution_count": null,
   "id": "bd0bdaf7",
   "metadata": {},
   "outputs": [],
   "source": []
  },
  {
   "cell_type": "code",
   "execution_count": 27,
   "id": "a407524d",
   "metadata": {},
   "outputs": [],
   "source": [
    "from nltk.stem import PorterStemmer,WordNetLemmatizer\n",
    "from nltk.tokenize import word_tokenize,sent_tokenize"
   ]
  },
  {
   "cell_type": "code",
   "execution_count": 28,
   "id": "f2489617",
   "metadata": {},
   "outputs": [],
   "source": [
    "ps=PorterStemmer()\n",
    "lm=WordNetLemmatizer()"
   ]
  },
  {
   "cell_type": "code",
   "execution_count": 29,
   "id": "ec9457a2",
   "metadata": {},
   "outputs": [],
   "source": [
    "text_tokens_stem=[]\n",
    "text_tokens_lem=[]\n",
    "for msg in text_tokens_without_sw:\n",
    "    msg_stem=[]\n",
    "    msg_lem=[]\n",
    "    for m in word_tokenize(msg):\n",
    "        msg_stem.append(ps.stem(m))\n",
    "        msg_lem.append(lm.lemmatize(m))\n",
    "    text_tokens_stem.append(' '.join(msg_stem))\n",
    "    text_tokens_lem.append(' '.join(msg_lem))"
   ]
  },
  {
   "cell_type": "code",
   "execution_count": 30,
   "id": "6e27e56e",
   "metadata": {},
   "outputs": [
    {
     "name": "stdout",
     "output_type": "stream",
     "text": [
      "must retarded thought meant con lawlwell work\n",
      "must retard thought meant con lawlwel work\n",
      "must retarded thought meant con lawlwell work\n",
      "##################################\n",
      "downmodded irrelevance isnt works\n",
      "downmod irrelev isnt work\n",
      "downmodded irrelevance isnt work\n",
      "##################################\n",
      "supposed mean place people undoubtedly snake burrowed course grounds would sure killed dont make raceclass discussion something isnt\n",
      "suppos mean place peopl undoubtedli snake burrow cours ground would sure kill dont make raceclass discuss someth isnt\n",
      "supposed mean place people undoubtedly snake burrowed course ground would sure killed dont make raceclass discussion something isnt\n",
      "##################################\n",
      "thought everyone fucking delicious\n",
      "thought everyon fuck delici\n",
      "thought everyone fucking delicious\n",
      "##################################\n"
     ]
    }
   ],
   "source": [
    "for m1,m2,m3 in zip(text_tokens_without_sw[:4],text_tokens_stem[:4],text_tokens_lem[:4]):\n",
    "    print(m1)\n",
    "    print(m2)\n",
    "    print(m3)\n",
    "    print(\"##################################\")"
   ]
  },
  {
   "cell_type": "code",
   "execution_count": null,
   "id": "71ea6121",
   "metadata": {},
   "outputs": [],
   "source": []
  },
  {
   "cell_type": "code",
   "execution_count": null,
   "id": "c9cd5487",
   "metadata": {},
   "outputs": [],
   "source": []
  },
  {
   "cell_type": "code",
   "execution_count": 31,
   "id": "f2934819",
   "metadata": {},
   "outputs": [],
   "source": [
    "parent_text_tokens_stem=[]\n",
    "parent_text_tokens_lem=[]\n",
    "for msg in parent_text_tokens_without_sw:\n",
    "    msg_stem=[]\n",
    "    msg_lem=[]\n",
    "    for m in word_tokenize(msg):\n",
    "        msg_stem.append(ps.stem(m))\n",
    "        msg_lem.append(lm.lemmatize(m))\n",
    "    parent_text_tokens_stem.append(' '.join(msg_stem))\n",
    "    parent_text_tokens_lem.append(' '.join(msg_lem))"
   ]
  },
  {
   "cell_type": "code",
   "execution_count": 32,
   "id": "c487696a",
   "metadata": {},
   "outputs": [
    {
     "name": "stdout",
     "output_type": "stream",
     "text": [
      "quite unfair call hillary clinton cunt lacks depth warmth\n",
      "quit unfair call hillari clinton cunt lack depth warmth\n",
      "quite unfair call hillary clinton cunt lack depth warmth\n",
      "##################################\n",
      "upmodded awesome kindness\n",
      "upmod awesom kind\n",
      "upmodded awesome kindness\n",
      "##################################\n",
      "hell golf course anything think bunch rich white men golfclapped euthanizing monsterous snake\n",
      "hell golf cours anyth think bunch rich white men golfclap euthan monster snake\n",
      "hell golf course anything think bunch rich white men golfclapped euthanizing monsterous snake\n",
      "##################################\n",
      "nice try jennifer know know like baba ganoush\n",
      "nice tri jennif know know like baba ganoush\n",
      "nice try jennifer know know like baba ganoush\n",
      "##################################\n"
     ]
    }
   ],
   "source": [
    "for m1,m2,m3 in zip(parent_text_tokens_without_sw[:4],parent_text_tokens_stem[:4],parent_text_tokens_lem[:4]):\n",
    "    print(m1)\n",
    "    print(m2)\n",
    "    print(m3)\n",
    "    print(\"##################################\")"
   ]
  },
  {
   "cell_type": "code",
   "execution_count": null,
   "id": "3593a01e",
   "metadata": {},
   "outputs": [],
   "source": []
  },
  {
   "cell_type": "code",
   "execution_count": null,
   "id": "312c1e2a",
   "metadata": {},
   "outputs": [],
   "source": []
  },
  {
   "cell_type": "code",
   "execution_count": null,
   "id": "e2298040",
   "metadata": {},
   "outputs": [],
   "source": []
  },
  {
   "cell_type": "code",
   "execution_count": 36,
   "id": "2a693d3d",
   "metadata": {},
   "outputs": [],
   "source": [
    "df['text']= text_tokens_lem\n",
    "df['parent_text']=parent_text_tokens_lem"
   ]
  },
  {
   "cell_type": "code",
   "execution_count": 37,
   "id": "4785305e",
   "metadata": {},
   "outputs": [
    {
     "data": {
      "text/html": [
       "<div>\n",
       "<style scoped>\n",
       "    .dataframe tbody tr th:only-of-type {\n",
       "        vertical-align: middle;\n",
       "    }\n",
       "\n",
       "    .dataframe tbody tr th {\n",
       "        vertical-align: top;\n",
       "    }\n",
       "\n",
       "    .dataframe thead th {\n",
       "        text-align: right;\n",
       "    }\n",
       "</style>\n",
       "<table border=\"1\" class=\"dataframe\">\n",
       "  <thead>\n",
       "    <tr style=\"text-align: right;\">\n",
       "      <th></th>\n",
       "      <th>text</th>\n",
       "      <th>author</th>\n",
       "      <th>controversiality</th>\n",
       "      <th>parent_text</th>\n",
       "      <th>parent_score</th>\n",
       "      <th>parent_author</th>\n",
       "      <th>parent_controversiality</th>\n",
       "      <th>Score</th>\n",
       "    </tr>\n",
       "  </thead>\n",
       "  <tbody>\n",
       "    <tr>\n",
       "      <th>0</th>\n",
       "      <td>must retarded thought meant con lawlwell work</td>\n",
       "      <td>calantus</td>\n",
       "      <td>0</td>\n",
       "      <td>quite unfair call hillary clinton cunt lack de...</td>\n",
       "      <td>245</td>\n",
       "      <td>whisper</td>\n",
       "      <td>0</td>\n",
       "      <td>-8</td>\n",
       "    </tr>\n",
       "    <tr>\n",
       "      <th>1</th>\n",
       "      <td>downmodded irrelevance isnt work</td>\n",
       "      <td>shadowrose</td>\n",
       "      <td>0</td>\n",
       "      <td>upmodded awesome kindness</td>\n",
       "      <td>32</td>\n",
       "      <td>b3mus3d</td>\n",
       "      <td>0</td>\n",
       "      <td>-16</td>\n",
       "    </tr>\n",
       "    <tr>\n",
       "      <th>2</th>\n",
       "      <td>supposed mean place people undoubtedly snake b...</td>\n",
       "      <td>nexusrush</td>\n",
       "      <td>0</td>\n",
       "      <td>hell golf course anything think bunch rich whi...</td>\n",
       "      <td>12</td>\n",
       "      <td>mrjellyneck</td>\n",
       "      <td>0</td>\n",
       "      <td>-7</td>\n",
       "    </tr>\n",
       "    <tr>\n",
       "      <th>3</th>\n",
       "      <td>thought everyone fucking delicious</td>\n",
       "      <td>r0nswans0n</td>\n",
       "      <td>0</td>\n",
       "      <td>nice try jennifer know know like baba ganoush</td>\n",
       "      <td>117</td>\n",
       "      <td>ometzo</td>\n",
       "      <td>0</td>\n",
       "      <td>67</td>\n",
       "    </tr>\n",
       "    <tr>\n",
       "      <th>4</th>\n",
       "      <td>great work zhesbegive raise seem handled</td>\n",
       "      <td>reddums</td>\n",
       "      <td>0</td>\n",
       "      <td>hey bos come look</td>\n",
       "      <td>1933</td>\n",
       "      <td>zhesbe</td>\n",
       "      <td>0</td>\n",
       "      <td>1348</td>\n",
       "    </tr>\n",
       "  </tbody>\n",
       "</table>\n",
       "</div>"
      ],
      "text/plain": [
       "                                                text      author  \\\n",
       "0      must retarded thought meant con lawlwell work    calantus   \n",
       "1                   downmodded irrelevance isnt work  shadowrose   \n",
       "2  supposed mean place people undoubtedly snake b...   nexusrush   \n",
       "3                 thought everyone fucking delicious  r0nswans0n   \n",
       "4           great work zhesbegive raise seem handled     reddums   \n",
       "\n",
       "   controversiality                                        parent_text  \\\n",
       "0                 0  quite unfair call hillary clinton cunt lack de...   \n",
       "1                 0                          upmodded awesome kindness   \n",
       "2                 0  hell golf course anything think bunch rich whi...   \n",
       "3                 0      nice try jennifer know know like baba ganoush   \n",
       "4                 0                                  hey bos come look   \n",
       "\n",
       "   parent_score parent_author  parent_controversiality  Score  \n",
       "0           245       whisper                        0     -8  \n",
       "1            32       b3mus3d                        0    -16  \n",
       "2            12   mrjellyneck                        0     -7  \n",
       "3           117        ometzo                        0     67  \n",
       "4          1933        zhesbe                        0   1348  "
      ]
     },
     "execution_count": 37,
     "metadata": {},
     "output_type": "execute_result"
    }
   ],
   "source": [
    "df.head()"
   ]
  },
  {
   "cell_type": "code",
   "execution_count": null,
   "id": "fedd9e1a",
   "metadata": {},
   "outputs": [],
   "source": []
  },
  {
   "cell_type": "code",
   "execution_count": null,
   "id": "4f2ae978",
   "metadata": {},
   "outputs": [],
   "source": []
  },
  {
   "cell_type": "code",
   "execution_count": 38,
   "id": "cda5a342",
   "metadata": {},
   "outputs": [],
   "source": [
    "# Vectorize\n",
    "from sklearn.feature_extraction.text import CountVectorizer, TfidfVectorizer"
   ]
  },
  {
   "cell_type": "code",
   "execution_count": 39,
   "id": "3412b1c9",
   "metadata": {},
   "outputs": [
    {
     "name": "stderr",
     "output_type": "stream",
     "text": [
      "C:\\Users\\vip\\AppData\\Local\\Programs\\Python\\Python310\\lib\\site-packages\\sklearn\\utils\\deprecation.py:87: FutureWarning: Function get_feature_names is deprecated; get_feature_names is deprecated in 1.0 and will be removed in 1.2. Please use get_feature_names_out instead.\n",
      "  warnings.warn(msg, category=FutureWarning)\n"
     ]
    }
   ],
   "source": [
    "c_vect = CountVectorizer()\n",
    "text = c_vect.fit_transform(df['text']).toarray()\n",
    "text = pd.DataFrame(text, columns=c_vect.get_feature_names())\n"
   ]
  },
  {
   "cell_type": "code",
   "execution_count": 40,
   "id": "22644e08",
   "metadata": {},
   "outputs": [
    {
     "data": {
      "text/plain": [
       "(4999, 15187)"
      ]
     },
     "execution_count": 40,
     "metadata": {},
     "output_type": "execute_result"
    }
   ],
   "source": [
    "text.shape"
   ]
  },
  {
   "cell_type": "code",
   "execution_count": null,
   "id": "044ed4ae",
   "metadata": {},
   "outputs": [],
   "source": []
  },
  {
   "cell_type": "code",
   "execution_count": 41,
   "id": "9c51e21c",
   "metadata": {},
   "outputs": [
    {
     "name": "stderr",
     "output_type": "stream",
     "text": [
      "C:\\Users\\vip\\AppData\\Local\\Programs\\Python\\Python310\\lib\\site-packages\\sklearn\\utils\\deprecation.py:87: FutureWarning: Function get_feature_names is deprecated; get_feature_names is deprecated in 1.0 and will be removed in 1.2. Please use get_feature_names_out instead.\n",
      "  warnings.warn(msg, category=FutureWarning)\n"
     ]
    },
    {
     "data": {
      "text/plain": [
       "(4999, 50)"
      ]
     },
     "execution_count": 41,
     "metadata": {},
     "output_type": "execute_result"
    }
   ],
   "source": [
    "tfidf_vect = TfidfVectorizer(max_features=50,min_df=1,max_df=0.7)\n",
    "text_tf_idf = tfidf_vect.fit_transform(df['text']).toarray()\n",
    "text_tf_idf = pd.DataFrame(text_tf_idf, columns=tfidf_vect.get_feature_names())\n",
    "\n",
    "text_tf_idf.shape"
   ]
  },
  {
   "cell_type": "code",
   "execution_count": 42,
   "id": "22cd04ba",
   "metadata": {},
   "outputs": [
    {
     "data": {
      "text/html": [
       "<div>\n",
       "<style scoped>\n",
       "    .dataframe tbody tr th:only-of-type {\n",
       "        vertical-align: middle;\n",
       "    }\n",
       "\n",
       "    .dataframe tbody tr th {\n",
       "        vertical-align: top;\n",
       "    }\n",
       "\n",
       "    .dataframe thead th {\n",
       "        text-align: right;\n",
       "    }\n",
       "</style>\n",
       "<table border=\"1\" class=\"dataframe\">\n",
       "  <thead>\n",
       "    <tr style=\"text-align: right;\">\n",
       "      <th></th>\n",
       "      <th>actually</th>\n",
       "      <th>also</th>\n",
       "      <th>better</th>\n",
       "      <th>cant</th>\n",
       "      <th>could</th>\n",
       "      <th>didnt</th>\n",
       "      <th>doesnt</th>\n",
       "      <th>dont</th>\n",
       "      <th>even</th>\n",
       "      <th>first</th>\n",
       "      <th>...</th>\n",
       "      <th>thing</th>\n",
       "      <th>think</th>\n",
       "      <th>time</th>\n",
       "      <th>want</th>\n",
       "      <th>way</th>\n",
       "      <th>well</th>\n",
       "      <th>work</th>\n",
       "      <th>would</th>\n",
       "      <th>year</th>\n",
       "      <th>youre</th>\n",
       "    </tr>\n",
       "  </thead>\n",
       "  <tbody>\n",
       "    <tr>\n",
       "      <th>0</th>\n",
       "      <td>0.0</td>\n",
       "      <td>0.0</td>\n",
       "      <td>0.0</td>\n",
       "      <td>0.0</td>\n",
       "      <td>0.0</td>\n",
       "      <td>0.0</td>\n",
       "      <td>0.0</td>\n",
       "      <td>0.000000</td>\n",
       "      <td>0.0</td>\n",
       "      <td>0.0</td>\n",
       "      <td>...</td>\n",
       "      <td>0.0</td>\n",
       "      <td>0.0</td>\n",
       "      <td>0.0</td>\n",
       "      <td>0.0</td>\n",
       "      <td>0.0</td>\n",
       "      <td>0.0</td>\n",
       "      <td>1.0</td>\n",
       "      <td>0.000000</td>\n",
       "      <td>0.0</td>\n",
       "      <td>0.0</td>\n",
       "    </tr>\n",
       "    <tr>\n",
       "      <th>1</th>\n",
       "      <td>0.0</td>\n",
       "      <td>0.0</td>\n",
       "      <td>0.0</td>\n",
       "      <td>0.0</td>\n",
       "      <td>0.0</td>\n",
       "      <td>0.0</td>\n",
       "      <td>0.0</td>\n",
       "      <td>0.000000</td>\n",
       "      <td>0.0</td>\n",
       "      <td>0.0</td>\n",
       "      <td>...</td>\n",
       "      <td>0.0</td>\n",
       "      <td>0.0</td>\n",
       "      <td>0.0</td>\n",
       "      <td>0.0</td>\n",
       "      <td>0.0</td>\n",
       "      <td>0.0</td>\n",
       "      <td>1.0</td>\n",
       "      <td>0.000000</td>\n",
       "      <td>0.0</td>\n",
       "      <td>0.0</td>\n",
       "    </tr>\n",
       "    <tr>\n",
       "      <th>2</th>\n",
       "      <td>0.0</td>\n",
       "      <td>0.0</td>\n",
       "      <td>0.0</td>\n",
       "      <td>0.0</td>\n",
       "      <td>0.0</td>\n",
       "      <td>0.0</td>\n",
       "      <td>0.0</td>\n",
       "      <td>0.348246</td>\n",
       "      <td>0.0</td>\n",
       "      <td>0.0</td>\n",
       "      <td>...</td>\n",
       "      <td>0.0</td>\n",
       "      <td>0.0</td>\n",
       "      <td>0.0</td>\n",
       "      <td>0.0</td>\n",
       "      <td>0.0</td>\n",
       "      <td>0.0</td>\n",
       "      <td>0.0</td>\n",
       "      <td>0.377154</td>\n",
       "      <td>0.0</td>\n",
       "      <td>0.0</td>\n",
       "    </tr>\n",
       "    <tr>\n",
       "      <th>3</th>\n",
       "      <td>0.0</td>\n",
       "      <td>0.0</td>\n",
       "      <td>0.0</td>\n",
       "      <td>0.0</td>\n",
       "      <td>0.0</td>\n",
       "      <td>0.0</td>\n",
       "      <td>0.0</td>\n",
       "      <td>0.000000</td>\n",
       "      <td>0.0</td>\n",
       "      <td>0.0</td>\n",
       "      <td>...</td>\n",
       "      <td>0.0</td>\n",
       "      <td>0.0</td>\n",
       "      <td>0.0</td>\n",
       "      <td>0.0</td>\n",
       "      <td>0.0</td>\n",
       "      <td>0.0</td>\n",
       "      <td>0.0</td>\n",
       "      <td>0.000000</td>\n",
       "      <td>0.0</td>\n",
       "      <td>0.0</td>\n",
       "    </tr>\n",
       "    <tr>\n",
       "      <th>4</th>\n",
       "      <td>0.0</td>\n",
       "      <td>0.0</td>\n",
       "      <td>0.0</td>\n",
       "      <td>0.0</td>\n",
       "      <td>0.0</td>\n",
       "      <td>0.0</td>\n",
       "      <td>0.0</td>\n",
       "      <td>0.000000</td>\n",
       "      <td>0.0</td>\n",
       "      <td>0.0</td>\n",
       "      <td>...</td>\n",
       "      <td>0.0</td>\n",
       "      <td>0.0</td>\n",
       "      <td>0.0</td>\n",
       "      <td>0.0</td>\n",
       "      <td>0.0</td>\n",
       "      <td>0.0</td>\n",
       "      <td>1.0</td>\n",
       "      <td>0.000000</td>\n",
       "      <td>0.0</td>\n",
       "      <td>0.0</td>\n",
       "    </tr>\n",
       "  </tbody>\n",
       "</table>\n",
       "<p>5 rows × 50 columns</p>\n",
       "</div>"
      ],
      "text/plain": [
       "   actually  also  better  cant  could  didnt  doesnt      dont  even  first  \\\n",
       "0       0.0   0.0     0.0   0.0    0.0    0.0     0.0  0.000000   0.0    0.0   \n",
       "1       0.0   0.0     0.0   0.0    0.0    0.0     0.0  0.000000   0.0    0.0   \n",
       "2       0.0   0.0     0.0   0.0    0.0    0.0     0.0  0.348246   0.0    0.0   \n",
       "3       0.0   0.0     0.0   0.0    0.0    0.0     0.0  0.000000   0.0    0.0   \n",
       "4       0.0   0.0     0.0   0.0    0.0    0.0     0.0  0.000000   0.0    0.0   \n",
       "\n",
       "   ...  thing  think  time  want  way  well  work     would  year  youre  \n",
       "0  ...    0.0    0.0   0.0   0.0  0.0   0.0   1.0  0.000000   0.0    0.0  \n",
       "1  ...    0.0    0.0   0.0   0.0  0.0   0.0   1.0  0.000000   0.0    0.0  \n",
       "2  ...    0.0    0.0   0.0   0.0  0.0   0.0   0.0  0.377154   0.0    0.0  \n",
       "3  ...    0.0    0.0   0.0   0.0  0.0   0.0   0.0  0.000000   0.0    0.0  \n",
       "4  ...    0.0    0.0   0.0   0.0  0.0   0.0   1.0  0.000000   0.0    0.0  \n",
       "\n",
       "[5 rows x 50 columns]"
      ]
     },
     "execution_count": 42,
     "metadata": {},
     "output_type": "execute_result"
    }
   ],
   "source": [
    "text_tf_idf.head()"
   ]
  },
  {
   "cell_type": "code",
   "execution_count": 43,
   "id": "9d15fad5",
   "metadata": {},
   "outputs": [
    {
     "data": {
      "text/plain": [
       "Index(['actually', 'also', 'better', 'cant', 'could', 'didnt', 'doesnt',\n",
       "       'dont', 'even', 'first', 'fuck', 'fucking', 'game', 'get', 'going',\n",
       "       'good', 'got', 'guy', 'know', 'like', 'look', 'make', 'man', 'mean',\n",
       "       'much', 'need', 'never', 'one', 'people', 'point', 'really', 'right',\n",
       "       'say', 'see', 'shit', 'someone', 'something', 'still', 'take', 'thats',\n",
       "       'thing', 'think', 'time', 'want', 'way', 'well', 'work', 'would',\n",
       "       'year', 'youre'],\n",
       "      dtype='object')"
      ]
     },
     "execution_count": 43,
     "metadata": {},
     "output_type": "execute_result"
    }
   ],
   "source": [
    "Col1=text_tf_idf.columns\n",
    "Col1"
   ]
  },
  {
   "cell_type": "code",
   "execution_count": 44,
   "id": "7fbca4cb",
   "metadata": {},
   "outputs": [
    {
     "name": "stdout",
     "output_type": "stream",
     "text": [
      "(4999, 3)\n"
     ]
    },
    {
     "data": {
      "text/html": [
       "<div>\n",
       "<style scoped>\n",
       "    .dataframe tbody tr th:only-of-type {\n",
       "        vertical-align: middle;\n",
       "    }\n",
       "\n",
       "    .dataframe tbody tr th {\n",
       "        vertical-align: top;\n",
       "    }\n",
       "\n",
       "    .dataframe thead th {\n",
       "        text-align: right;\n",
       "    }\n",
       "</style>\n",
       "<table border=\"1\" class=\"dataframe\">\n",
       "  <thead>\n",
       "    <tr style=\"text-align: right;\">\n",
       "      <th></th>\n",
       "      <th>controversiality</th>\n",
       "      <th>parent_score</th>\n",
       "      <th>parent_controversiality</th>\n",
       "    </tr>\n",
       "  </thead>\n",
       "  <tbody>\n",
       "    <tr>\n",
       "      <th>0</th>\n",
       "      <td>0</td>\n",
       "      <td>245</td>\n",
       "      <td>0</td>\n",
       "    </tr>\n",
       "    <tr>\n",
       "      <th>1</th>\n",
       "      <td>0</td>\n",
       "      <td>32</td>\n",
       "      <td>0</td>\n",
       "    </tr>\n",
       "    <tr>\n",
       "      <th>2</th>\n",
       "      <td>0</td>\n",
       "      <td>12</td>\n",
       "      <td>0</td>\n",
       "    </tr>\n",
       "    <tr>\n",
       "      <th>3</th>\n",
       "      <td>0</td>\n",
       "      <td>117</td>\n",
       "      <td>0</td>\n",
       "    </tr>\n",
       "    <tr>\n",
       "      <th>4</th>\n",
       "      <td>0</td>\n",
       "      <td>1933</td>\n",
       "      <td>0</td>\n",
       "    </tr>\n",
       "  </tbody>\n",
       "</table>\n",
       "</div>"
      ],
      "text/plain": [
       "   controversiality  parent_score  parent_controversiality\n",
       "0                 0           245                        0\n",
       "1                 0            32                        0\n",
       "2                 0            12                        0\n",
       "3                 0           117                        0\n",
       "4                 0          1933                        0"
      ]
     },
     "execution_count": 44,
     "metadata": {},
     "output_type": "execute_result"
    }
   ],
   "source": [
    "num_cols = df[['controversiality', 'parent_score', 'parent_controversiality']]\n",
    "print(num_cols.shape)\n",
    "num_cols.head()"
   ]
  },
  {
   "cell_type": "code",
   "execution_count": 45,
   "id": "213da719",
   "metadata": {},
   "outputs": [
    {
     "data": {
      "text/plain": [
       "Index(['controversiality', 'parent_score', 'parent_controversiality'], dtype='object')"
      ]
     },
     "execution_count": 45,
     "metadata": {},
     "output_type": "execute_result"
    }
   ],
   "source": [
    "Col2=num_cols.columns\n",
    "Col2"
   ]
  },
  {
   "cell_type": "code",
   "execution_count": 46,
   "id": "beea6b2f",
   "metadata": {},
   "outputs": [],
   "source": [
    "x = np.hstack((text_tf_idf, num_cols))"
   ]
  },
  {
   "cell_type": "code",
   "execution_count": 47,
   "id": "199413b1",
   "metadata": {},
   "outputs": [
    {
     "data": {
      "text/plain": [
       "array(['actually', 'also', 'better', 'cant', 'could', 'didnt', 'doesnt',\n",
       "       'dont', 'even', 'first', 'fuck', 'fucking', 'game', 'get', 'going',\n",
       "       'good', 'got', 'guy', 'know', 'like', 'look', 'make', 'man',\n",
       "       'mean', 'much', 'need', 'never', 'one', 'people', 'point',\n",
       "       'really', 'right', 'say', 'see', 'shit', 'someone', 'something',\n",
       "       'still', 'take', 'thats', 'thing', 'think', 'time', 'want', 'way',\n",
       "       'well', 'work', 'would', 'year', 'youre', 'controversiality',\n",
       "       'parent_score', 'parent_controversiality'], dtype=object)"
      ]
     },
     "execution_count": 47,
     "metadata": {},
     "output_type": "execute_result"
    }
   ],
   "source": [
    "col=np.hstack((Col1,Col2))\n",
    "col"
   ]
  },
  {
   "cell_type": "code",
   "execution_count": null,
   "id": "0ca98673",
   "metadata": {},
   "outputs": [],
   "source": []
  },
  {
   "cell_type": "code",
   "execution_count": 48,
   "id": "ffcfe054",
   "metadata": {},
   "outputs": [
    {
     "data": {
      "text/html": [
       "<div>\n",
       "<style scoped>\n",
       "    .dataframe tbody tr th:only-of-type {\n",
       "        vertical-align: middle;\n",
       "    }\n",
       "\n",
       "    .dataframe tbody tr th {\n",
       "        vertical-align: top;\n",
       "    }\n",
       "\n",
       "    .dataframe thead th {\n",
       "        text-align: right;\n",
       "    }\n",
       "</style>\n",
       "<table border=\"1\" class=\"dataframe\">\n",
       "  <thead>\n",
       "    <tr style=\"text-align: right;\">\n",
       "      <th></th>\n",
       "      <th>0</th>\n",
       "      <th>1</th>\n",
       "      <th>2</th>\n",
       "      <th>3</th>\n",
       "      <th>4</th>\n",
       "      <th>5</th>\n",
       "      <th>6</th>\n",
       "      <th>7</th>\n",
       "      <th>8</th>\n",
       "      <th>9</th>\n",
       "      <th>...</th>\n",
       "      <th>43</th>\n",
       "      <th>44</th>\n",
       "      <th>45</th>\n",
       "      <th>46</th>\n",
       "      <th>47</th>\n",
       "      <th>48</th>\n",
       "      <th>49</th>\n",
       "      <th>50</th>\n",
       "      <th>51</th>\n",
       "      <th>52</th>\n",
       "    </tr>\n",
       "  </thead>\n",
       "  <tbody>\n",
       "    <tr>\n",
       "      <th>0</th>\n",
       "      <td>0.0</td>\n",
       "      <td>0.0</td>\n",
       "      <td>0.0</td>\n",
       "      <td>0.0</td>\n",
       "      <td>0.0</td>\n",
       "      <td>0.0</td>\n",
       "      <td>0.0</td>\n",
       "      <td>0.000000</td>\n",
       "      <td>0.0</td>\n",
       "      <td>0.0</td>\n",
       "      <td>...</td>\n",
       "      <td>0.0</td>\n",
       "      <td>0.0</td>\n",
       "      <td>0.0</td>\n",
       "      <td>1.0</td>\n",
       "      <td>0.000000</td>\n",
       "      <td>0.0</td>\n",
       "      <td>0.0</td>\n",
       "      <td>0.0</td>\n",
       "      <td>245.0</td>\n",
       "      <td>0.0</td>\n",
       "    </tr>\n",
       "    <tr>\n",
       "      <th>1</th>\n",
       "      <td>0.0</td>\n",
       "      <td>0.0</td>\n",
       "      <td>0.0</td>\n",
       "      <td>0.0</td>\n",
       "      <td>0.0</td>\n",
       "      <td>0.0</td>\n",
       "      <td>0.0</td>\n",
       "      <td>0.000000</td>\n",
       "      <td>0.0</td>\n",
       "      <td>0.0</td>\n",
       "      <td>...</td>\n",
       "      <td>0.0</td>\n",
       "      <td>0.0</td>\n",
       "      <td>0.0</td>\n",
       "      <td>1.0</td>\n",
       "      <td>0.000000</td>\n",
       "      <td>0.0</td>\n",
       "      <td>0.0</td>\n",
       "      <td>0.0</td>\n",
       "      <td>32.0</td>\n",
       "      <td>0.0</td>\n",
       "    </tr>\n",
       "    <tr>\n",
       "      <th>2</th>\n",
       "      <td>0.0</td>\n",
       "      <td>0.0</td>\n",
       "      <td>0.0</td>\n",
       "      <td>0.0</td>\n",
       "      <td>0.0</td>\n",
       "      <td>0.0</td>\n",
       "      <td>0.0</td>\n",
       "      <td>0.348246</td>\n",
       "      <td>0.0</td>\n",
       "      <td>0.0</td>\n",
       "      <td>...</td>\n",
       "      <td>0.0</td>\n",
       "      <td>0.0</td>\n",
       "      <td>0.0</td>\n",
       "      <td>0.0</td>\n",
       "      <td>0.377154</td>\n",
       "      <td>0.0</td>\n",
       "      <td>0.0</td>\n",
       "      <td>0.0</td>\n",
       "      <td>12.0</td>\n",
       "      <td>0.0</td>\n",
       "    </tr>\n",
       "    <tr>\n",
       "      <th>3</th>\n",
       "      <td>0.0</td>\n",
       "      <td>0.0</td>\n",
       "      <td>0.0</td>\n",
       "      <td>0.0</td>\n",
       "      <td>0.0</td>\n",
       "      <td>0.0</td>\n",
       "      <td>0.0</td>\n",
       "      <td>0.000000</td>\n",
       "      <td>0.0</td>\n",
       "      <td>0.0</td>\n",
       "      <td>...</td>\n",
       "      <td>0.0</td>\n",
       "      <td>0.0</td>\n",
       "      <td>0.0</td>\n",
       "      <td>0.0</td>\n",
       "      <td>0.000000</td>\n",
       "      <td>0.0</td>\n",
       "      <td>0.0</td>\n",
       "      <td>0.0</td>\n",
       "      <td>117.0</td>\n",
       "      <td>0.0</td>\n",
       "    </tr>\n",
       "    <tr>\n",
       "      <th>4</th>\n",
       "      <td>0.0</td>\n",
       "      <td>0.0</td>\n",
       "      <td>0.0</td>\n",
       "      <td>0.0</td>\n",
       "      <td>0.0</td>\n",
       "      <td>0.0</td>\n",
       "      <td>0.0</td>\n",
       "      <td>0.000000</td>\n",
       "      <td>0.0</td>\n",
       "      <td>0.0</td>\n",
       "      <td>...</td>\n",
       "      <td>0.0</td>\n",
       "      <td>0.0</td>\n",
       "      <td>0.0</td>\n",
       "      <td>1.0</td>\n",
       "      <td>0.000000</td>\n",
       "      <td>0.0</td>\n",
       "      <td>0.0</td>\n",
       "      <td>0.0</td>\n",
       "      <td>1933.0</td>\n",
       "      <td>0.0</td>\n",
       "    </tr>\n",
       "  </tbody>\n",
       "</table>\n",
       "<p>5 rows × 53 columns</p>\n",
       "</div>"
      ],
      "text/plain": [
       "    0    1    2    3    4    5    6         7    8    9   ...   43   44   45  \\\n",
       "0  0.0  0.0  0.0  0.0  0.0  0.0  0.0  0.000000  0.0  0.0  ...  0.0  0.0  0.0   \n",
       "1  0.0  0.0  0.0  0.0  0.0  0.0  0.0  0.000000  0.0  0.0  ...  0.0  0.0  0.0   \n",
       "2  0.0  0.0  0.0  0.0  0.0  0.0  0.0  0.348246  0.0  0.0  ...  0.0  0.0  0.0   \n",
       "3  0.0  0.0  0.0  0.0  0.0  0.0  0.0  0.000000  0.0  0.0  ...  0.0  0.0  0.0   \n",
       "4  0.0  0.0  0.0  0.0  0.0  0.0  0.0  0.000000  0.0  0.0  ...  0.0  0.0  0.0   \n",
       "\n",
       "    46        47   48   49   50      51   52  \n",
       "0  1.0  0.000000  0.0  0.0  0.0   245.0  0.0  \n",
       "1  1.0  0.000000  0.0  0.0  0.0    32.0  0.0  \n",
       "2  0.0  0.377154  0.0  0.0  0.0    12.0  0.0  \n",
       "3  0.0  0.000000  0.0  0.0  0.0   117.0  0.0  \n",
       "4  1.0  0.000000  0.0  0.0  0.0  1933.0  0.0  \n",
       "\n",
       "[5 rows x 53 columns]"
      ]
     },
     "execution_count": 48,
     "metadata": {},
     "output_type": "execute_result"
    }
   ],
   "source": [
    "x=pd.DataFrame(x)\n",
    "x.head()"
   ]
  },
  {
   "cell_type": "code",
   "execution_count": 49,
   "id": "9b6db38b",
   "metadata": {},
   "outputs": [],
   "source": [
    "x.columns=col"
   ]
  },
  {
   "cell_type": "code",
   "execution_count": 50,
   "id": "c545a7a0",
   "metadata": {},
   "outputs": [
    {
     "data": {
      "text/html": [
       "<div>\n",
       "<style scoped>\n",
       "    .dataframe tbody tr th:only-of-type {\n",
       "        vertical-align: middle;\n",
       "    }\n",
       "\n",
       "    .dataframe tbody tr th {\n",
       "        vertical-align: top;\n",
       "    }\n",
       "\n",
       "    .dataframe thead th {\n",
       "        text-align: right;\n",
       "    }\n",
       "</style>\n",
       "<table border=\"1\" class=\"dataframe\">\n",
       "  <thead>\n",
       "    <tr style=\"text-align: right;\">\n",
       "      <th></th>\n",
       "      <th>actually</th>\n",
       "      <th>also</th>\n",
       "      <th>better</th>\n",
       "      <th>cant</th>\n",
       "      <th>could</th>\n",
       "      <th>didnt</th>\n",
       "      <th>doesnt</th>\n",
       "      <th>dont</th>\n",
       "      <th>even</th>\n",
       "      <th>first</th>\n",
       "      <th>...</th>\n",
       "      <th>want</th>\n",
       "      <th>way</th>\n",
       "      <th>well</th>\n",
       "      <th>work</th>\n",
       "      <th>would</th>\n",
       "      <th>year</th>\n",
       "      <th>youre</th>\n",
       "      <th>controversiality</th>\n",
       "      <th>parent_score</th>\n",
       "      <th>parent_controversiality</th>\n",
       "    </tr>\n",
       "  </thead>\n",
       "  <tbody>\n",
       "    <tr>\n",
       "      <th>0</th>\n",
       "      <td>0.0</td>\n",
       "      <td>0.0</td>\n",
       "      <td>0.0</td>\n",
       "      <td>0.0</td>\n",
       "      <td>0.0</td>\n",
       "      <td>0.0</td>\n",
       "      <td>0.0</td>\n",
       "      <td>0.000000</td>\n",
       "      <td>0.0</td>\n",
       "      <td>0.0</td>\n",
       "      <td>...</td>\n",
       "      <td>0.0</td>\n",
       "      <td>0.0</td>\n",
       "      <td>0.0</td>\n",
       "      <td>1.0</td>\n",
       "      <td>0.000000</td>\n",
       "      <td>0.0</td>\n",
       "      <td>0.0</td>\n",
       "      <td>0.0</td>\n",
       "      <td>245.0</td>\n",
       "      <td>0.0</td>\n",
       "    </tr>\n",
       "    <tr>\n",
       "      <th>1</th>\n",
       "      <td>0.0</td>\n",
       "      <td>0.0</td>\n",
       "      <td>0.0</td>\n",
       "      <td>0.0</td>\n",
       "      <td>0.0</td>\n",
       "      <td>0.0</td>\n",
       "      <td>0.0</td>\n",
       "      <td>0.000000</td>\n",
       "      <td>0.0</td>\n",
       "      <td>0.0</td>\n",
       "      <td>...</td>\n",
       "      <td>0.0</td>\n",
       "      <td>0.0</td>\n",
       "      <td>0.0</td>\n",
       "      <td>1.0</td>\n",
       "      <td>0.000000</td>\n",
       "      <td>0.0</td>\n",
       "      <td>0.0</td>\n",
       "      <td>0.0</td>\n",
       "      <td>32.0</td>\n",
       "      <td>0.0</td>\n",
       "    </tr>\n",
       "    <tr>\n",
       "      <th>2</th>\n",
       "      <td>0.0</td>\n",
       "      <td>0.0</td>\n",
       "      <td>0.0</td>\n",
       "      <td>0.0</td>\n",
       "      <td>0.0</td>\n",
       "      <td>0.0</td>\n",
       "      <td>0.0</td>\n",
       "      <td>0.348246</td>\n",
       "      <td>0.0</td>\n",
       "      <td>0.0</td>\n",
       "      <td>...</td>\n",
       "      <td>0.0</td>\n",
       "      <td>0.0</td>\n",
       "      <td>0.0</td>\n",
       "      <td>0.0</td>\n",
       "      <td>0.377154</td>\n",
       "      <td>0.0</td>\n",
       "      <td>0.0</td>\n",
       "      <td>0.0</td>\n",
       "      <td>12.0</td>\n",
       "      <td>0.0</td>\n",
       "    </tr>\n",
       "    <tr>\n",
       "      <th>3</th>\n",
       "      <td>0.0</td>\n",
       "      <td>0.0</td>\n",
       "      <td>0.0</td>\n",
       "      <td>0.0</td>\n",
       "      <td>0.0</td>\n",
       "      <td>0.0</td>\n",
       "      <td>0.0</td>\n",
       "      <td>0.000000</td>\n",
       "      <td>0.0</td>\n",
       "      <td>0.0</td>\n",
       "      <td>...</td>\n",
       "      <td>0.0</td>\n",
       "      <td>0.0</td>\n",
       "      <td>0.0</td>\n",
       "      <td>0.0</td>\n",
       "      <td>0.000000</td>\n",
       "      <td>0.0</td>\n",
       "      <td>0.0</td>\n",
       "      <td>0.0</td>\n",
       "      <td>117.0</td>\n",
       "      <td>0.0</td>\n",
       "    </tr>\n",
       "    <tr>\n",
       "      <th>4</th>\n",
       "      <td>0.0</td>\n",
       "      <td>0.0</td>\n",
       "      <td>0.0</td>\n",
       "      <td>0.0</td>\n",
       "      <td>0.0</td>\n",
       "      <td>0.0</td>\n",
       "      <td>0.0</td>\n",
       "      <td>0.000000</td>\n",
       "      <td>0.0</td>\n",
       "      <td>0.0</td>\n",
       "      <td>...</td>\n",
       "      <td>0.0</td>\n",
       "      <td>0.0</td>\n",
       "      <td>0.0</td>\n",
       "      <td>1.0</td>\n",
       "      <td>0.000000</td>\n",
       "      <td>0.0</td>\n",
       "      <td>0.0</td>\n",
       "      <td>0.0</td>\n",
       "      <td>1933.0</td>\n",
       "      <td>0.0</td>\n",
       "    </tr>\n",
       "  </tbody>\n",
       "</table>\n",
       "<p>5 rows × 53 columns</p>\n",
       "</div>"
      ],
      "text/plain": [
       "   actually  also  better  cant  could  didnt  doesnt      dont  even  first  \\\n",
       "0       0.0   0.0     0.0   0.0    0.0    0.0     0.0  0.000000   0.0    0.0   \n",
       "1       0.0   0.0     0.0   0.0    0.0    0.0     0.0  0.000000   0.0    0.0   \n",
       "2       0.0   0.0     0.0   0.0    0.0    0.0     0.0  0.348246   0.0    0.0   \n",
       "3       0.0   0.0     0.0   0.0    0.0    0.0     0.0  0.000000   0.0    0.0   \n",
       "4       0.0   0.0     0.0   0.0    0.0    0.0     0.0  0.000000   0.0    0.0   \n",
       "\n",
       "   ...  want  way  well  work     would  year  youre  controversiality  \\\n",
       "0  ...   0.0  0.0   0.0   1.0  0.000000   0.0    0.0               0.0   \n",
       "1  ...   0.0  0.0   0.0   1.0  0.000000   0.0    0.0               0.0   \n",
       "2  ...   0.0  0.0   0.0   0.0  0.377154   0.0    0.0               0.0   \n",
       "3  ...   0.0  0.0   0.0   0.0  0.000000   0.0    0.0               0.0   \n",
       "4  ...   0.0  0.0   0.0   1.0  0.000000   0.0    0.0               0.0   \n",
       "\n",
       "   parent_score  parent_controversiality  \n",
       "0         245.0                      0.0  \n",
       "1          32.0                      0.0  \n",
       "2          12.0                      0.0  \n",
       "3         117.0                      0.0  \n",
       "4        1933.0                      0.0  \n",
       "\n",
       "[5 rows x 53 columns]"
      ]
     },
     "execution_count": 50,
     "metadata": {},
     "output_type": "execute_result"
    }
   ],
   "source": [
    "x.head()"
   ]
  },
  {
   "cell_type": "code",
   "execution_count": 51,
   "id": "a00d2b86",
   "metadata": {},
   "outputs": [
    {
     "data": {
      "text/plain": [
       "(4999, 53)"
      ]
     },
     "execution_count": 51,
     "metadata": {},
     "output_type": "execute_result"
    }
   ],
   "source": [
    "x.shape"
   ]
  },
  {
   "cell_type": "code",
   "execution_count": 52,
   "id": "eefcb1c3",
   "metadata": {},
   "outputs": [
    {
     "data": {
      "text/plain": [
       "(4999,)"
      ]
     },
     "execution_count": 52,
     "metadata": {},
     "output_type": "execute_result"
    }
   ],
   "source": [
    "\n",
    "y = df['Score']\n",
    "y.shape"
   ]
  },
  {
   "cell_type": "code",
   "execution_count": null,
   "id": "5f54c9ba",
   "metadata": {},
   "outputs": [],
   "source": []
  },
  {
   "cell_type": "code",
   "execution_count": null,
   "id": "d4f45ab3",
   "metadata": {},
   "outputs": [],
   "source": []
  },
  {
   "cell_type": "code",
   "execution_count": null,
   "id": "18be5506",
   "metadata": {},
   "outputs": [],
   "source": []
  },
  {
   "cell_type": "code",
   "execution_count": 53,
   "id": "2bc6c0f2",
   "metadata": {},
   "outputs": [],
   "source": [
    "from sklearn.model_selection import train_test_split\n",
    "\n",
    "# split the data\n",
    "x_train, x_val, y_train, y_val = train_test_split(x,y,test_size=0.20, random_state = 42)"
   ]
  },
  {
   "cell_type": "code",
   "execution_count": null,
   "id": "1c0cd551",
   "metadata": {},
   "outputs": [],
   "source": []
  },
  {
   "cell_type": "code",
   "execution_count": 54,
   "id": "be8848d8",
   "metadata": {},
   "outputs": [],
   "source": [
    "# Linear regressor\n",
    "from sklearn.linear_model import LinearRegression\n",
    "lr = LinearRegression()"
   ]
  },
  {
   "cell_type": "code",
   "execution_count": 55,
   "id": "81be8f35",
   "metadata": {},
   "outputs": [
    {
     "data": {
      "text/html": [
       "<style>#sk-container-id-1 {color: black;background-color: white;}#sk-container-id-1 pre{padding: 0;}#sk-container-id-1 div.sk-toggleable {background-color: white;}#sk-container-id-1 label.sk-toggleable__label {cursor: pointer;display: block;width: 100%;margin-bottom: 0;padding: 0.3em;box-sizing: border-box;text-align: center;}#sk-container-id-1 label.sk-toggleable__label-arrow:before {content: \"▸\";float: left;margin-right: 0.25em;color: #696969;}#sk-container-id-1 label.sk-toggleable__label-arrow:hover:before {color: black;}#sk-container-id-1 div.sk-estimator:hover label.sk-toggleable__label-arrow:before {color: black;}#sk-container-id-1 div.sk-toggleable__content {max-height: 0;max-width: 0;overflow: hidden;text-align: left;background-color: #f0f8ff;}#sk-container-id-1 div.sk-toggleable__content pre {margin: 0.2em;color: black;border-radius: 0.25em;background-color: #f0f8ff;}#sk-container-id-1 input.sk-toggleable__control:checked~div.sk-toggleable__content {max-height: 200px;max-width: 100%;overflow: auto;}#sk-container-id-1 input.sk-toggleable__control:checked~label.sk-toggleable__label-arrow:before {content: \"▾\";}#sk-container-id-1 div.sk-estimator input.sk-toggleable__control:checked~label.sk-toggleable__label {background-color: #d4ebff;}#sk-container-id-1 div.sk-label input.sk-toggleable__control:checked~label.sk-toggleable__label {background-color: #d4ebff;}#sk-container-id-1 input.sk-hidden--visually {border: 0;clip: rect(1px 1px 1px 1px);clip: rect(1px, 1px, 1px, 1px);height: 1px;margin: -1px;overflow: hidden;padding: 0;position: absolute;width: 1px;}#sk-container-id-1 div.sk-estimator {font-family: monospace;background-color: #f0f8ff;border: 1px dotted black;border-radius: 0.25em;box-sizing: border-box;margin-bottom: 0.5em;}#sk-container-id-1 div.sk-estimator:hover {background-color: #d4ebff;}#sk-container-id-1 div.sk-parallel-item::after {content: \"\";width: 100%;border-bottom: 1px solid gray;flex-grow: 1;}#sk-container-id-1 div.sk-label:hover label.sk-toggleable__label {background-color: #d4ebff;}#sk-container-id-1 div.sk-serial::before {content: \"\";position: absolute;border-left: 1px solid gray;box-sizing: border-box;top: 0;bottom: 0;left: 50%;z-index: 0;}#sk-container-id-1 div.sk-serial {display: flex;flex-direction: column;align-items: center;background-color: white;padding-right: 0.2em;padding-left: 0.2em;position: relative;}#sk-container-id-1 div.sk-item {position: relative;z-index: 1;}#sk-container-id-1 div.sk-parallel {display: flex;align-items: stretch;justify-content: center;background-color: white;position: relative;}#sk-container-id-1 div.sk-item::before, #sk-container-id-1 div.sk-parallel-item::before {content: \"\";position: absolute;border-left: 1px solid gray;box-sizing: border-box;top: 0;bottom: 0;left: 50%;z-index: -1;}#sk-container-id-1 div.sk-parallel-item {display: flex;flex-direction: column;z-index: 1;position: relative;background-color: white;}#sk-container-id-1 div.sk-parallel-item:first-child::after {align-self: flex-end;width: 50%;}#sk-container-id-1 div.sk-parallel-item:last-child::after {align-self: flex-start;width: 50%;}#sk-container-id-1 div.sk-parallel-item:only-child::after {width: 0;}#sk-container-id-1 div.sk-dashed-wrapped {border: 1px dashed gray;margin: 0 0.4em 0.5em 0.4em;box-sizing: border-box;padding-bottom: 0.4em;background-color: white;}#sk-container-id-1 div.sk-label label {font-family: monospace;font-weight: bold;display: inline-block;line-height: 1.2em;}#sk-container-id-1 div.sk-label-container {text-align: center;}#sk-container-id-1 div.sk-container {/* jupyter's `normalize.less` sets `[hidden] { display: none; }` but bootstrap.min.css set `[hidden] { display: none !important; }` so we also need the `!important` here to be able to override the default hidden behavior on the sphinx rendered scikit-learn.org. See: https://github.com/scikit-learn/scikit-learn/issues/21755 */display: inline-block !important;position: relative;}#sk-container-id-1 div.sk-text-repr-fallback {display: none;}</style><div id=\"sk-container-id-1\" class=\"sk-top-container\"><div class=\"sk-text-repr-fallback\"><pre>LinearRegression()</pre><b>In a Jupyter environment, please rerun this cell to show the HTML representation or trust the notebook. <br />On GitHub, the HTML representation is unable to render, please try loading this page with nbviewer.org.</b></div><div class=\"sk-container\" hidden><div class=\"sk-item\"><div class=\"sk-estimator sk-toggleable\"><input class=\"sk-toggleable__control sk-hidden--visually\" id=\"sk-estimator-id-1\" type=\"checkbox\" checked><label for=\"sk-estimator-id-1\" class=\"sk-toggleable__label sk-toggleable__label-arrow\">LinearRegression</label><div class=\"sk-toggleable__content\"><pre>LinearRegression()</pre></div></div></div></div></div>"
      ],
      "text/plain": [
       "LinearRegression()"
      ]
     },
     "execution_count": 55,
     "metadata": {},
     "output_type": "execute_result"
    }
   ],
   "source": [
    "lr.fit(x_train.values, y_train.values)"
   ]
  },
  {
   "cell_type": "code",
   "execution_count": 56,
   "id": "360ab655",
   "metadata": {},
   "outputs": [],
   "source": [
    "pred_y = lr.predict(x_val.values)\n",
    "from sklearn.metrics import r2_score"
   ]
  },
  {
   "cell_type": "code",
   "execution_count": 57,
   "id": "eef5d871",
   "metadata": {},
   "outputs": [
    {
     "data": {
      "text/plain": [
       "0.3172530087468962"
      ]
     },
     "execution_count": 57,
     "metadata": {},
     "output_type": "execute_result"
    }
   ],
   "source": [
    "r2_score(y_val,pred_y)"
   ]
  },
  {
   "cell_type": "code",
   "execution_count": 58,
   "id": "c4f35d13",
   "metadata": {},
   "outputs": [],
   "source": [
    "from sklearn.metrics import mean_squared_error"
   ]
  },
  {
   "cell_type": "code",
   "execution_count": 59,
   "id": "c3e9df04",
   "metadata": {},
   "outputs": [
    {
     "name": "stdout",
     "output_type": "stream",
     "text": [
      "0.14749252357745282\n"
     ]
    }
   ],
   "source": [
    "print(np.sqrt(mean_squared_error(y_val,pred_y))/len(y_val))"
   ]
  },
  {
   "cell_type": "code",
   "execution_count": null,
   "id": "92b76e0c",
   "metadata": {},
   "outputs": [],
   "source": []
  },
  {
   "cell_type": "code",
   "execution_count": null,
   "id": "5f6a3728",
   "metadata": {},
   "outputs": [],
   "source": []
  },
  {
   "cell_type": "code",
   "execution_count": null,
   "id": "1cf85410",
   "metadata": {},
   "outputs": [],
   "source": []
  },
  {
   "cell_type": "code",
   "execution_count": 60,
   "id": "3d974b3c",
   "metadata": {},
   "outputs": [],
   "source": [
    "# XGB regressor\n",
    "from xgboost import XGBRegressor\n",
    "\n",
    "xgbReg = XGBRegressor(verbosity=0)\n",
    "xgbReg.fit(x_train, y_train)\n",
    "\n",
    "pred_y1 = xgbReg.predict(x_val)"
   ]
  },
  {
   "cell_type": "code",
   "execution_count": 61,
   "id": "0a5dfe02",
   "metadata": {},
   "outputs": [
    {
     "data": {
      "text/plain": [
       "0.15415762488123141"
      ]
     },
     "execution_count": 61,
     "metadata": {},
     "output_type": "execute_result"
    }
   ],
   "source": [
    "r2_score(y_val,pred_y1)\n"
   ]
  },
  {
   "cell_type": "code",
   "execution_count": 62,
   "id": "4c3b3f18",
   "metadata": {},
   "outputs": [
    {
     "name": "stdout",
     "output_type": "stream",
     "text": [
      "0.16416660927103946\n"
     ]
    }
   ],
   "source": [
    "print(np.sqrt(mean_squared_error(y_val,pred_y1))/len(y_val))"
   ]
  },
  {
   "cell_type": "code",
   "execution_count": null,
   "id": "c651319e",
   "metadata": {},
   "outputs": [],
   "source": []
  },
  {
   "cell_type": "code",
   "execution_count": null,
   "id": "5a19ae9e",
   "metadata": {},
   "outputs": [],
   "source": []
  },
  {
   "cell_type": "code",
   "execution_count": 63,
   "id": "9d703272",
   "metadata": {},
   "outputs": [
    {
     "data": {
      "text/plain": [
       "{'n_neighbors': 50}"
      ]
     },
     "execution_count": 63,
     "metadata": {},
     "output_type": "execute_result"
    }
   ],
   "source": [
    "# KNN\n",
    "from sklearn.neighbors import KNeighborsRegressor\n",
    "from sklearn.model_selection import GridSearchCV\n",
    "\n",
    "# Hyperparameter for n_neighbors\n",
    "param_grid = {'n_neighbors': np.arange(1, 100)}\n",
    "knn = KNeighborsRegressor()\n",
    "knn_cv = GridSearchCV(knn, param_grid, cv=5)\n",
    "knn_cv.fit(x_train, y_train)\n",
    "knn_cv.best_params_"
   ]
  },
  {
   "cell_type": "code",
   "execution_count": 64,
   "id": "b2344bb2",
   "metadata": {},
   "outputs": [],
   "source": [
    "knn = KNeighborsRegressor(n_neighbors = 97)\n",
    "knn.fit(x_train, y_train)\n",
    "\n",
    "pred_y2 = knn.predict(x_val)\n"
   ]
  },
  {
   "cell_type": "code",
   "execution_count": 65,
   "id": "d0528619",
   "metadata": {},
   "outputs": [
    {
     "data": {
      "text/plain": [
       "0.3833601057099788"
      ]
     },
     "execution_count": 65,
     "metadata": {},
     "output_type": "execute_result"
    }
   ],
   "source": [
    "r2_score(y_val,pred_y2)"
   ]
  },
  {
   "cell_type": "code",
   "execution_count": 66,
   "id": "0c1da336",
   "metadata": {},
   "outputs": [
    {
     "name": "stdout",
     "output_type": "stream",
     "text": [
      "0.1401702726784711\n"
     ]
    }
   ],
   "source": [
    "print(np.sqrt(mean_squared_error(y_val,pred_y2))/len(y_val))"
   ]
  },
  {
   "cell_type": "code",
   "execution_count": 67,
   "id": "2b4c31f1",
   "metadata": {},
   "outputs": [],
   "source": [
    "import pickle\n",
    "filename=\"finalized_model1.pkl\"\n",
    "pickle.dump(lr,open(filename,'wb'))"
   ]
  },
  {
   "cell_type": "code",
   "execution_count": 68,
   "id": "9aa47923",
   "metadata": {},
   "outputs": [],
   "source": [
    "# pickling \n",
    "filename=\"finalized_model2.pkl\"\n",
    "pickle.dump(xgbReg,open(filename,'wb'))"
   ]
  },
  {
   "cell_type": "code",
   "execution_count": 69,
   "id": "53a0c22c",
   "metadata": {},
   "outputs": [],
   "source": [
    "# pickling\n",
    "filename=\"finalized_model3.pkl\"\n",
    "pickle.dump(knn,open(filename,'wb'))"
   ]
  },
  {
   "cell_type": "code",
   "execution_count": null,
   "id": "37a2362d",
   "metadata": {},
   "outputs": [],
   "source": []
  }
 ],
 "metadata": {
  "kernelspec": {
   "display_name": "Python 3 (ipykernel)",
   "language": "python",
   "name": "python3"
  },
  "language_info": {
   "codemirror_mode": {
    "name": "ipython",
    "version": 3
   },
   "file_extension": ".py",
   "mimetype": "text/x-python",
   "name": "python",
   "nbconvert_exporter": "python",
   "pygments_lexer": "ipython3",
   "version": "3.10.4"
  }
 },
 "nbformat": 4,
 "nbformat_minor": 5
}
